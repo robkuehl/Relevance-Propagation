{
 "cells": [
  {
   "cell_type": "code",
   "execution_count": 2,
   "metadata": {},
   "outputs": [],
   "source": [
    "from src.cnn_eval import main_evaluate, main_load_model"
   ]
  },
  {
   "cell_type": "code",
   "execution_count": null,
   "metadata": {},
   "outputs": [],
   "source": [
    "'''\n",
    "Infos zum Classifier:\n",
    "    model = classifier.model\n",
    "    train_images = classifier.train_images\n",
    "    train_labels_df = classifier.train_labels_df\n",
    "'''\n",
    "\n",
    "'''\n",
    "Für main_evaluate:\n",
    "    ist in cnn_eval.py in src konfiguriert\n",
    "    i ist der Index für eine config aus der Liste aller Konfigurationen\n",
    "'''\n",
    "classifier = main_evaluate(i=2)\n",
    "'''\n",
    "Für main_load_model:\n",
    "    ist in cnn_eval.py in src konfiguriert\n",
    "    Es muss der Pfad eines Orders angegeben werden, der durch die Methode main_evaluate angelegt wurde\n",
    "'''\n",
    "\n",
    "\n",
    "#classifier = main_load_model(os.path.join(dirname, '..', 'models', 'cnn', '27_06_2020-21-07'))\n",
    "classifier.pred(10)"
   ]
  }
 ],
 "metadata": {
  "language_info": {
   "codemirror_mode": {
    "name": "ipython",
    "version": 3
   },
   "file_extension": ".py",
   "mimetype": "text/x-python",
   "name": "python",
   "nbconvert_exporter": "python",
   "pygments_lexer": "ipython3",
   "version": 3
  },
  "orig_nbformat": 2,
  "kernelspec": {
   "name": "python_defaultSpec_1593507507929",
   "display_name": "Python 3.7.7 64-bit ('tf_env': conda)"
  }
 },
 "nbformat": 4,
 "nbformat_minor": 2
}