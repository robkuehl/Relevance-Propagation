{
 "metadata": {
  "language_info": {
   "codemirror_mode": {
    "name": "ipython",
    "version": 3
   },
   "file_extension": ".py",
   "mimetype": "text/x-python",
   "name": "python",
   "nbconvert_exporter": "python",
   "pygments_lexer": "ipython3",
   "version": "3.7.7-final"
  },
  "orig_nbformat": 2,
  "kernelspec": {
   "name": "python_defaultSpec_1597593755763",
   "display_name": "Python 3.7.7 64-bit ('tf_env': conda)"
  }
 },
 "nbformat": 4,
 "nbformat_minor": 2,
 "cells": [
  {
   "cell_type": "code",
   "execution_count": 1,
   "metadata": {},
   "outputs": [],
   "source": [
    "from src.rel_prop.min_max_rel_model import MinMaxModel, Nested_Regressor\n",
    "from src.models.Binary_Mnist_Model import Montavon_Classifier"
   ]
  },
  {
   "cell_type": "code",
   "execution_count": 2,
   "metadata": {
    "tags": []
   },
   "outputs": [
    {
     "output_type": "stream",
     "name": "stdout",
     "text": "Train images: 21840, train labels: 21840\nLoad model\nModel: \"sequential\"\n_________________________________________________________________\nLayer (type)                 Output Shape              Param #   \n=================================================================\nflatten (Flatten)            (None, 784)               0         \n_________________________________________________________________\ndense (Dense)                (None, 400)               313600    \n_________________________________________________________________\ndense_1 (Dense)              (None, 100)               40000     \n_________________________________________________________________\ndense_2 (Dense)              (None, 400)               40000     \n_________________________________________________________________\ndense_3 (Dense)              (None, 1)                 400       \n=================================================================\nTotal params: 394,000\nTrainable params: 353,600\nNon-trainable params: 40,400\n_________________________________________________________________\n"
    }
   ],
   "source": [
    "mc = Montavon_Classifier(class_nb=8, load_model=True)\n",
    "mc.set_data(test_size=0.2)\n",
    "mc.set_model()\n",
    "mc.model.summary()"
   ]
  },
  {
   "cell_type": "code",
   "execution_count": 3,
   "metadata": {
    "tags": []
   },
   "outputs": [
    {
     "output_type": "stream",
     "name": "stdout",
     "text": "Model has been load, no need to train!\n"
    }
   ],
   "source": [
    "mc.fit_model(epochs=300, batch_size=32)"
   ]
  },
  {
   "cell_type": "code",
   "execution_count": 4,
   "metadata": {
    "tags": []
   },
   "outputs": [
    {
     "output_type": "stream",
     "name": "stdout",
     "text": "Started to collect higher relevances!\nLoad higher relevances from local directory!\nCreated MinMaxModel\nDuration to initialize MinMaxModel: 0.0065762996673583984\n"
    }
   ],
   "source": [
    "import time, tensorflow\n",
    "with tensorflow.device(\"/device:CPU:0\"):\n",
    "    time0 = time.time()\n",
    "    minmax = MinMaxModel(classifier=mc)\n",
    "    time0 = time.time()-time0\n",
    "    print(\"Duration to initialize MinMaxModel: {}\".format(time0))"
   ]
  },
  {
   "cell_type": "code",
   "execution_count": 5,
   "metadata": {},
   "outputs": [],
   "source": [
    "true_relevances = minmax.true_relevances"
   ]
  },
  {
   "cell_type": "code",
   "execution_count": 6,
   "metadata": {
    "tags": []
   },
   "outputs": [
    {
     "output_type": "execute_result",
     "data": {
      "text/plain": "(4607,)"
     },
     "metadata": {},
     "execution_count": 6
    }
   ],
   "source": [
    "true_relevances[0].shape"
   ]
  },
  {
   "cell_type": "code",
   "execution_count": 9,
   "metadata": {},
   "outputs": [],
   "source": [
    "nr_train_images = minmax.nr_train_images"
   ]
  },
  {
   "cell_type": "code",
   "execution_count": 10,
   "metadata": {},
   "outputs": [
    {
     "output_type": "execute_result",
     "data": {
      "text/plain": "(28, 28)"
     },
     "metadata": {},
     "execution_count": 10
    }
   ],
   "source": [
    "nr_train_images[0].shape"
   ]
  },
  {
   "cell_type": "code",
   "execution_count": 5,
   "metadata": {
    "tags": [
     "outputPrepend"
    ]
   },
   "outputs": [
    {
     "output_type": "stream",
     "name": "stdout",
     "text": " - 0s 712us/step - loss: 0.0096 - mean_squared_error: 0.0096\nEpoch 134/300\n144/144 [==============================] - 0s 790us/step - loss: 0.0093 - mean_squared_error: 0.0093\nEpoch 135/300\n144/144 [==============================] - 0s 888us/step - loss: 0.0090 - mean_squared_error: 0.0090\nEpoch 136/300\n144/144 [==============================] - 0s 923us/step - loss: 0.0087 - mean_squared_error: 0.0087\nEpoch 137/300\n144/144 [==============================] - 0s 923us/step - loss: 0.0084 - mean_squared_error: 0.0084\nEpoch 138/300\n144/144 [==============================] - 0s 915us/step - loss: 0.0081 - mean_squared_error: 0.0081\nEpoch 139/300\n144/144 [==============================] - 0s 911us/step - loss: 0.0078 - mean_squared_error: 0.0078\nEpoch 140/300\n144/144 [==============================] - 0s 805us/step - loss: 0.0075 - mean_squared_error: 0.0075\nEpoch 141/300\n144/144 [==============================] - 0s 826us/step - loss: 0.0072 - mean_squared_error: 0.0072\nEpoch 142/300\n144/144 [==============================] - 0s 852us/step - loss: 0.0070 - mean_squared_error: 0.0070\nEpoch 143/300\n144/144 [==============================] - 0s 984us/step - loss: 0.0067 - mean_squared_error: 0.0067\nEpoch 144/300\n144/144 [==============================] - 0s 992us/step - loss: 0.0065 - mean_squared_error: 0.0065\nEpoch 145/300\n144/144 [==============================] - 0s 953us/step - loss: 0.0063 - mean_squared_error: 0.0063\nEpoch 146/300\n144/144 [==============================] - 0s 945us/step - loss: 0.0061 - mean_squared_error: 0.0061\nEpoch 147/300\n144/144 [==============================] - 0s 757us/step - loss: 0.0058 - mean_squared_error: 0.0058\nEpoch 148/300\n144/144 [==============================] - 0s 952us/step - loss: 0.0056 - mean_squared_error: 0.0056\nEpoch 149/300\n144/144 [==============================] - 0s 1ms/step - loss: 0.0054 - mean_squared_error: 0.0054\nEpoch 150/300\n144/144 [==============================] - 0s 1ms/step - loss: 0.0053 - mean_squared_error: 0.0053\nEpoch 151/300\n144/144 [==============================] - 0s 853us/step - loss: 0.0051 - mean_squared_error: 0.0051\nEpoch 152/300\n144/144 [==============================] - 0s 833us/step - loss: 0.0049 - mean_squared_error: 0.0049\nEpoch 153/300\n144/144 [==============================] - 0s 869us/step - loss: 0.0047 - mean_squared_error: 0.0047\nEpoch 154/300\n144/144 [==============================] - 0s 970us/step - loss: 0.0046 - mean_squared_error: 0.0046  \nEpoch 155/300\n144/144 [==============================] - 0s 1ms/step - loss: 0.0044 - mean_squared_error: 0.0044\nEpoch 156/300\n144/144 [==============================] - 0s 876us/step - loss: 0.0043 - mean_squared_error: 0.0043\nEpoch 157/300\n144/144 [==============================] - 0s 899us/step - loss: 0.0041 - mean_squared_error: 0.0041\nEpoch 158/300\n144/144 [==============================] - 0s 852us/step - loss: 0.0040 - mean_squared_error: 0.0040\nEpoch 159/300\n144/144 [==============================] - 0s 851us/step - loss: 0.0038 - mean_squared_error: 0.0038\nEpoch 160/300\n144/144 [==============================] - 0s 893us/step - loss: 0.0037 - mean_squared_error: 0.0037\nEpoch 161/300\n144/144 [==============================] - 0s 839us/step - loss: 0.0036 - mean_squared_error: 0.0036\nEpoch 162/300\n144/144 [==============================] - 0s 837us/step - loss: 0.0034 - mean_squared_error: 0.0034\nEpoch 163/300\n144/144 [==============================] - 0s 741us/step - loss: 0.0033 - mean_squared_error: 0.0033\nEpoch 164/300\n144/144 [==============================] - 0s 790us/step - loss: 0.0032 - mean_squared_error: 0.0032\nEpoch 165/300\n144/144 [==============================] - 0s 903us/step - loss: 0.0031 - mean_squared_error: 0.0031\nEpoch 166/300\n144/144 [==============================] - 0s 898us/step - loss: 0.0030 - mean_squared_error: 0.0030  \nEpoch 167/300\n144/144 [==============================] - 0s 886us/step - loss: 0.0029 - mean_squared_error: 0.0029\nEpoch 168/300\n144/144 [==============================] - 0s 908us/step - loss: 0.0028 - mean_squared_error: 0.0028\nEpoch 169/300\n144/144 [==============================] - 0s 1ms/step - loss: 0.0027 - mean_squared_error: 0.0027\nEpoch 170/300\n144/144 [==============================] - 0s 920us/step - loss: 0.0026 - mean_squared_error: 0.0026\nEpoch 171/300\n144/144 [==============================] - 0s 927us/step - loss: 0.0025 - mean_squared_error: 0.0025\nEpoch 172/300\n144/144 [==============================] - 0s 996us/step - loss: 0.0024 - mean_squared_error: 0.0024\nEpoch 173/300\n144/144 [==============================] - 0s 995us/step - loss: 0.0023 - mean_squared_error: 0.0023\nEpoch 174/300\n144/144 [==============================] - 0s 993us/step - loss: 0.0023 - mean_squared_error: 0.0023  \nEpoch 175/300\n144/144 [==============================] - 0s 997us/step - loss: 0.0022 - mean_squared_error: 0.0022\nEpoch 176/300\n144/144 [==============================] - 0s 754us/step - loss: 0.0021 - mean_squared_error: 0.0021\nEpoch 177/300\n144/144 [==============================] - 0s 785us/step - loss: 0.0020 - mean_squared_error: 0.0020\nEpoch 178/300\n144/144 [==============================] - 0s 893us/step - loss: 0.0020 - mean_squared_error: 0.0020\nEpoch 179/300\n144/144 [==============================] - 0s 893us/step - loss: 0.0019 - mean_squared_error: 0.0019\nEpoch 180/300\n144/144 [==============================] - 0s 898us/step - loss: 0.0018 - mean_squared_error: 0.0018\nEpoch 181/300\n144/144 [==============================] - 0s 905us/step - loss: 0.0018 - mean_squared_error: 0.0018\nEpoch 182/300\n144/144 [==============================] - 0s 876us/step - loss: 0.0017 - mean_squared_error: 0.0017\nEpoch 183/300\n144/144 [==============================] - 0s 942us/step - loss: 0.0016 - mean_squared_error: 0.0016  \nEpoch 184/300\n144/144 [==============================] - 0s 1ms/step - loss: 0.0016 - mean_squared_error: 0.0016\nEpoch 185/300\n144/144 [==============================] - 0s 1ms/step - loss: 0.0015 - mean_squared_error: 0.0015\nEpoch 186/300\n144/144 [==============================] - 0s 1ms/step - loss: 0.0015 - mean_squared_error: 0.0015\nEpoch 187/300\n144/144 [==============================] - 0s 1ms/step - loss: 0.0014 - mean_squared_error: 0.0014\nEpoch 188/300\n144/144 [==============================] - 0s 1ms/step - loss: 0.0014 - mean_squared_error: 0.0014\nEpoch 189/300\n144/144 [==============================] - 0s 1ms/step - loss: 0.0013 - mean_squared_error: 0.0013\nEpoch 190/300\n144/144 [==============================] - 0s 1ms/step - loss: 0.0013 - mean_squared_error: 0.0013    \nEpoch 191/300\n144/144 [==============================] - 0s 1ms/step - loss: 0.0012 - mean_squared_error: 0.0012\nEpoch 192/300\n144/144 [==============================] - 0s 1ms/step - loss: 0.0012 - mean_squared_error: 0.0012\nEpoch 193/300\n144/144 [==============================] - 0s 1ms/step - loss: 0.0012 - mean_squared_error: 0.0012\nEpoch 194/300\n144/144 [==============================] - 0s 1ms/step - loss: 0.0011 - mean_squared_error: 0.0011\nEpoch 195/300\n144/144 [==============================] - 0s 1ms/step - loss: 0.0011 - mean_squared_error: 0.0011\nEpoch 196/300\n144/144 [==============================] - 0s 1ms/step - loss: 0.0010 - mean_squared_error: 0.0010\nEpoch 197/300\n144/144 [==============================] - 0s 1ms/step - loss: 0.0010 - mean_squared_error: 0.0010\nEpoch 198/300\n144/144 [==============================] - 0s 1ms/step - loss: 9.7507e-04 - mean_squared_error: 9.7507e-04\nEpoch 199/300\n144/144 [==============================] - 0s 1ms/step - loss: 9.4171e-04 - mean_squared_error: 9.4171e-04\nEpoch 200/300\n144/144 [==============================] - 0s 1ms/step - loss: 9.0952e-04 - mean_squared_error: 9.0952e-04\nEpoch 201/300\n144/144 [==============================] - 0s 856us/step - loss: 8.7841e-04 - mean_squared_error: 8.7841e-04\nEpoch 202/300\n144/144 [==============================] - 0s 878us/step - loss: 8.4840e-04 - mean_squared_error: 8.4840e-04\nEpoch 203/300\n144/144 [==============================] - 0s 931us/step - loss: 8.1911e-04 - mean_squared_error: 8.1911e-04\nEpoch 204/300\n144/144 [==============================] - 0s 999us/step - loss: 7.9112e-04 - mean_squared_error: 7.9112e-04\nEpoch 205/300\n144/144 [==============================] - 0s 1ms/step - loss: 7.6411e-04 - mean_squared_error: 7.6411e-04\nEpoch 206/300\n144/144 [==============================] - 0s 997us/step - loss: 7.3801e-04 - mean_squared_error: 7.3801e-04\nEpoch 207/300\n144/144 [==============================] - 0s 1ms/step - loss: 7.1282e-04 - mean_squared_error: 7.1282e-04\nEpoch 208/300\n144/144 [==============================] - 0s 997us/step - loss: 6.8849e-04 - mean_squared_error: 6.8849e-04\nEpoch 209/300\n144/144 [==============================] - 0s 1ms/step - loss: 6.6499e-04 - mean_squared_error: 6.6499e-04\nEpoch 210/300\n144/144 [==============================] - 0s 997us/step - loss: 6.4230e-04 - mean_squared_error: 6.4230e-04\nEpoch 211/300\n144/144 [==============================] - 0s 998us/step - loss: 6.2040e-04 - mean_squared_error: 6.2040e-04\nEpoch 212/300\n144/144 [==============================] - 0s 1ms/step - loss: 5.9924e-04 - mean_squared_error: 5.9924e-04\nEpoch 213/300\n144/144 [==============================] - 0s 1ms/step - loss: 5.7882e-04 - mean_squared_error: 5.7882e-04\nEpoch 214/300\n144/144 [==============================] - 0s 994us/step - loss: 5.5909e-04 - mean_squared_error: 5.5909e-04\nEpoch 215/300\n144/144 [==============================] - 0s 1ms/step - loss: 5.4004e-04 - mean_squared_error: 5.4004e-04\nEpoch 216/300\n144/144 [==============================] - 0s 1ms/step - loss: 5.2164e-04 - mean_squared_error: 5.2164e-04\nEpoch 217/300\n144/144 [==============================] - 0s 991us/step - loss: 5.0387e-04 - mean_squared_error: 5.0387e-04\nEpoch 218/300\n144/144 [==============================] - 0s 990us/step - loss: 4.8671e-04 - mean_squared_error: 4.8671e-04\nEpoch 219/300\n144/144 [==============================] - 0s 999us/step - loss: 4.7014e-04 - mean_squared_error: 4.7014e-04\nEpoch 220/300\n144/144 [==============================] - 0s 1ms/step - loss: 4.5414e-04 - mean_squared_error: 4.5414e-04\nEpoch 221/300\n144/144 [==============================] - 0s 1ms/step - loss: 4.3868e-04 - mean_squared_error: 4.3868e-04\nEpoch 222/300\n144/144 [==============================] - 0s 831us/step - loss: 4.2375e-04 - mean_squared_error: 4.2375e-04\nEpoch 223/300\n144/144 [==============================] - 0s 895us/step - loss: 4.0933e-04 - mean_squared_error: 4.0933e-04\nEpoch 224/300\n144/144 [==============================] - 0s 959us/step - loss: 3.9541e-04 - mean_squared_error: 3.9541e-04\nEpoch 225/300\n144/144 [==============================] - 0s 950us/step - loss: 3.8196e-04 - mean_squared_error: 3.8196e-04\nEpoch 226/300\n144/144 [==============================] - 0s 793us/step - loss: 3.6899e-04 - mean_squared_error: 3.6899e-04\nEpoch 227/300\n144/144 [==============================] - 0s 748us/step - loss: 3.5643e-04 - mean_squared_error: 3.5643e-04\nEpoch 228/300\n144/144 [==============================] - 0s 756us/step - loss: 3.4432e-04 - mean_squared_error: 3.4432e-04\nEpoch 229/300\n144/144 [==============================] - 0s 753us/step - loss: 3.3262e-04 - mean_squared_error: 3.3262e-04\nEpoch 230/300\n144/144 [==============================] - 0s 735us/step - loss: 3.2131e-04 - mean_squared_error: 3.2131e-04\nEpoch 231/300\n144/144 [==============================] - 0s 779us/step - loss: 3.1040e-04 - mean_squared_error: 3.1040e-04\nEpoch 232/300\n144/144 [==============================] - 0s 944us/step - loss: 2.9986e-04 - mean_squared_error: 2.9986e-04\nEpoch 233/300\n144/144 [==============================] - 0s 724us/step - loss: 2.8968e-04 - mean_squared_error: 2.8968e-04\nEpoch 234/300\n144/144 [==============================] - 0s 735us/step - loss: 2.7984e-04 - mean_squared_error: 2.7984e-04\nEpoch 235/300\n144/144 [==============================] - 0s 735us/step - loss: 2.7035e-04 - mean_squared_error: 2.7035e-04\nEpoch 236/300\n144/144 [==============================] - 0s 763us/step - loss: 2.6117e-04 - mean_squared_error: 2.6117e-04\nEpoch 237/300\n144/144 [==============================] - 0s 807us/step - loss: 2.5232e-04 - mean_squared_error: 2.5232e-04\nEpoch 238/300\n144/144 [==============================] - 0s 758us/step - loss: 2.4375e-04 - mean_squared_error: 2.4375e-04\nEpoch 239/300\n144/144 [==============================] - 0s 872us/step - loss: 2.3549e-04 - mean_squared_error: 2.3549e-04\nEpoch 240/300\n144/144 [==============================] - 0s 1ms/step - loss: 2.2750e-04 - mean_squared_error: 2.2750e-04\nEpoch 241/300\n144/144 [==============================] - 0s 1ms/step - loss: 2.1979e-04 - mean_squared_error: 2.1979e-04\nEpoch 242/300\n144/144 [==============================] - 0s 1ms/step - loss: 2.1218e-04 - mean_squared_error: 2.1218e-04\nEpoch 243/300\n144/144 [==============================] - 0s 1ms/step - loss: 2.0499e-04 - mean_squared_error: 2.0499e-04\nEpoch 244/300\n144/144 [==============================] - 0s 1ms/step - loss: 1.9804e-04 - mean_squared_error: 1.9804e-04\nEpoch 245/300\n144/144 [==============================] - 0s 805us/step - loss: 1.9133e-04 - mean_squared_error: 1.9133e-04\nEpoch 246/300\n144/144 [==============================] - 0s 821us/step - loss: 1.8485e-04 - mean_squared_error: 1.8485e-04\nEpoch 247/300\n144/144 [==============================] - 0s 862us/step - loss: 1.7859e-04 - mean_squared_error: 1.7859e-04\nEpoch 248/300\n144/144 [==============================] - 0s 870us/step - loss: 1.7254e-04 - mean_squared_error: 1.7254e-04\nEpoch 249/300\n144/144 [==============================] - 0s 864us/step - loss: 1.6670e-04 - mean_squared_error: 1.6670e-04\nEpoch 250/300\n144/144 [==============================] - 0s 849us/step - loss: 1.6106e-04 - mean_squared_error: 1.6106e-04\nEpoch 251/300\n144/144 [==============================] - 0s 876us/step - loss: 1.5560e-04 - mean_squared_error: 1.5560e-04\nEpoch 252/300\n144/144 [==============================] - 0s 780us/step - loss: 1.5035e-04 - mean_squared_error: 1.5035e-04\nEpoch 253/300\n144/144 [==============================] - 0s 716us/step - loss: 1.4526e-04 - mean_squared_error: 1.4526e-04\nEpoch 254/300\n144/144 [==============================] - 0s 806us/step - loss: 1.4034e-04 - mean_squared_error: 1.4034e-04\nEpoch 255/300\n144/144 [==============================] - 0s 872us/step - loss: 1.3559e-04 - mean_squared_error: 1.3559e-04\nEpoch 256/300\n144/144 [==============================] - 0s 882us/step - loss: 1.3101e-04 - mean_squared_error: 1.3101e-04\nEpoch 257/300\n144/144 [==============================] - 0s 875us/step - loss: 1.2658e-04 - mean_squared_error: 1.2658e-04\nEpoch 258/300\n144/144 [==============================] - 0s 911us/step - loss: 1.2230e-04 - mean_squared_error: 1.2230e-04\nEpoch 259/300\n144/144 [==============================] - 0s 960us/step - loss: 1.1817e-04 - mean_squared_error: 1.1817e-04\nEpoch 260/300\n144/144 [==============================] - 0s 906us/step - loss: 1.1417e-04 - mean_squared_error: 1.1417e-04\nEpoch 261/300\n144/144 [==============================] - 0s 861us/step - loss: 1.1032e-04 - mean_squared_error: 1.1032e-04\nEpoch 262/300\n144/144 [==============================] - 0s 867us/step - loss: 1.0659e-04 - mean_squared_error: 1.0659e-04\nEpoch 263/300\n144/144 [==============================] - 0s 860us/step - loss: 1.0299e-04 - mean_squared_error: 1.0299e-04\nEpoch 264/300\n144/144 [==============================] - 0s 855us/step - loss: 9.9513e-05 - mean_squared_error: 9.9513e-05\nEpoch 265/300\n144/144 [==============================] - 0s 862us/step - loss: 9.6159e-05 - mean_squared_error: 9.6159e-05\nEpoch 266/300\n144/144 [==============================] - 0s 896us/step - loss: 9.2911e-05 - mean_squared_error: 9.2911e-05\nEpoch 267/300\n144/144 [==============================] - 0s 981us/step - loss: 8.9772e-05 - mean_squared_error: 8.9772e-05\nEpoch 268/300\n144/144 [==============================] - 0s 938us/step - loss: 8.6746e-05 - mean_squared_error: 8.6746e-05\nEpoch 269/300\n144/144 [==============================] - 0s 967us/step - loss: 8.3817e-05 - mean_squared_error: 8.3817e-05\nEpoch 270/300\n144/144 [==============================] - 0s 1ms/step - loss: 8.0991e-05 - mean_squared_error: 8.0991e-05\nEpoch 271/300\n144/144 [==============================] - 0s 1ms/step - loss: 7.8260e-05 - mean_squared_error: 7.8260e-05\nEpoch 272/300\n144/144 [==============================] - 0s 1ms/step - loss: 7.5619e-05 - mean_squared_error: 7.5619e-05\nEpoch 273/300\n144/144 [==============================] - 0s 1ms/step - loss: 7.3071e-05 - mean_squared_error: 7.3071e-05\nEpoch 274/300\n144/144 [==============================] - 0s 1ms/step - loss: 7.0612e-05 - mean_squared_error: 7.0612e-05\nEpoch 275/300\n144/144 [==============================] - 0s 1ms/step - loss: 6.8230e-05 - mean_squared_error: 6.8230e-05\nEpoch 276/300\n144/144 [==============================] - 0s 1ms/step - loss: 6.5931e-05 - mean_squared_error: 6.5931e-05\nEpoch 277/300\n144/144 [==============================] - 0s 1ms/step - loss: 6.3709e-05 - mean_squared_error: 6.3709e-05\nEpoch 278/300\n144/144 [==============================] - 0s 1ms/step - loss: 6.1566e-05 - mean_squared_error: 6.1566e-05\nEpoch 279/300\n144/144 [==============================] - 0s 919us/step - loss: 5.9494e-05 - mean_squared_error: 5.9494e-05\nEpoch 280/300\n144/144 [==============================] - 0s 967us/step - loss: 5.7492e-05 - mean_squared_error: 5.7492e-05\nEpoch 281/300\n144/144 [==============================] - 0s 999us/step - loss: 5.5556e-05 - mean_squared_error: 5.5556e-05\nEpoch 282/300\n144/144 [==============================] - 0s 958us/step - loss: 5.3690e-05 - mean_squared_error: 5.3690e-05\nEpoch 283/300\n144/144 [==============================] - 0s 977us/step - loss: 5.1884e-05 - mean_squared_error: 5.1884e-05\nEpoch 284/300\n144/144 [==============================] - 0s 989us/step - loss: 5.0138e-05 - mean_squared_error: 5.0138e-05\nEpoch 285/300\n144/144 [==============================] - 0s 992us/step - loss: 4.8454e-05 - mean_squared_error: 4.8454e-05\nEpoch 286/300\n144/144 [==============================] - 0s 1ms/step - loss: 4.6827e-05 - mean_squared_error: 4.6827e-05\nEpoch 287/300\n144/144 [==============================] - 0s 1ms/step - loss: 4.5253e-05 - mean_squared_error: 4.5253e-05\nEpoch 288/300\n144/144 [==============================] - 0s 830us/step - loss: 4.3735e-05 - mean_squared_error: 4.3735e-05\nEpoch 289/300\n144/144 [==============================] - 0s 745us/step - loss: 4.2266e-05 - mean_squared_error: 4.2266e-05\nEpoch 290/300\n144/144 [==============================] - 0s 809us/step - loss: 4.0848e-05 - mean_squared_error: 4.0848e-05\nEpoch 291/300\n144/144 [==============================] - 0s 895us/step - loss: 3.9477e-05 - mean_squared_error: 3.9477e-05\nEpoch 292/300\n144/144 [==============================] - 0s 901us/step - loss: 3.8152e-05 - mean_squared_error: 3.8152e-05\nEpoch 293/300\n144/144 [==============================] - 0s 893us/step - loss: 3.6874e-05 - mean_squared_error: 3.6874e-05\nEpoch 294/300\n144/144 [==============================] - 0s 965us/step - loss: 3.5638e-05 - mean_squared_error: 3.5638e-05\nEpoch 295/300\n144/144 [==============================] - 0s 1ms/step - loss: 3.4441e-05 - mean_squared_error: 3.4441e-05\nEpoch 296/300\n144/144 [==============================] - 0s 1ms/step - loss: 3.3287e-05 - mean_squared_error: 3.3287e-05\nEpoch 297/300\n144/144 [==============================] - 0s 1ms/step - loss: 3.2174e-05 - mean_squared_error: 3.2174e-05\nEpoch 298/300\n144/144 [==============================] - 0s 1ms/step - loss: 3.1097e-05 - mean_squared_error: 3.1097e-05\nEpoch 299/300\n144/144 [==============================] - 0s 1ms/step - loss: 3.0058e-05 - mean_squared_error: 3.0058e-05\nEpoch 300/300\n144/144 [==============================] - 0s 966us/step - loss: 2.9050e-05 - mean_squared_error: 2.9050e-05\n"
    },
    {
     "output_type": "error",
     "ename": "IndexError",
     "evalue": "index 100 is out of bounds for axis 0 with size 100",
     "traceback": [
      "\u001b[0;31m---------------------------------------------------------------------------\u001b[0m",
      "\u001b[0;31mIndexError\u001b[0m                                Traceback (most recent call last)",
      "\u001b[0;32m<ipython-input-5-f6ceefc5b3c0>\u001b[0m in \u001b[0;36m<module>\u001b[0;34m\u001b[0m\n\u001b[0;32m----> 1\u001b[0;31m \u001b[0mminmax\u001b[0m\u001b[0;34m.\u001b[0m\u001b[0mtrain_min_max\u001b[0m\u001b[0;34m(\u001b[0m\u001b[0mpretrained\u001b[0m\u001b[0;34m=\u001b[0m\u001b[0;32mFalse\u001b[0m\u001b[0;34m)\u001b[0m\u001b[0;34m\u001b[0m\u001b[0;34m\u001b[0m\u001b[0m\n\u001b[0m",
      "\u001b[0;32m~/Documents/Programmierprojekte/Relevance-Propagation/src/rel_prop/min_max_rel_model.py\u001b[0m in \u001b[0;36mtrain_min_max\u001b[0;34m(self, pretrained)\u001b[0m\n\u001b[1;32m     82\u001b[0m         \u001b[0;32mfor\u001b[0m \u001b[0mnr\u001b[0m \u001b[0;32min\u001b[0m \u001b[0mself\u001b[0m\u001b[0;34m.\u001b[0m\u001b[0mnested_regressors\u001b[0m\u001b[0;34m:\u001b[0m\u001b[0;34m\u001b[0m\u001b[0;34m\u001b[0m\u001b[0m\n\u001b[1;32m     83\u001b[0m             \u001b[0;32mif\u001b[0m \u001b[0mpretrained\u001b[0m\u001b[0;34m==\u001b[0m\u001b[0;32mFalse\u001b[0m\u001b[0;34m:\u001b[0m\u001b[0;34m\u001b[0m\u001b[0;34m\u001b[0m\u001b[0m\n\u001b[0;32m---> 84\u001b[0;31m                 \u001b[0mnr\u001b[0m\u001b[0;34m.\u001b[0m\u001b[0mfit_approx_model\u001b[0m\u001b[0;34m(\u001b[0m\u001b[0mtrain_images\u001b[0m\u001b[0;34m=\u001b[0m\u001b[0mself\u001b[0m\u001b[0;34m.\u001b[0m\u001b[0mnr_train_images\u001b[0m\u001b[0;34m,\u001b[0m \u001b[0mtrue_relevances\u001b[0m\u001b[0;34m=\u001b[0m\u001b[0mself\u001b[0m\u001b[0;34m.\u001b[0m\u001b[0mtrue_relevances\u001b[0m\u001b[0;34m[\u001b[0m\u001b[0mnr\u001b[0m\u001b[0;34m.\u001b[0m\u001b[0mneuron_index\u001b[0m\u001b[0;34m]\u001b[0m\u001b[0;34m)\u001b[0m\u001b[0;34m\u001b[0m\u001b[0;34m\u001b[0m\u001b[0m\n\u001b[0m\u001b[1;32m     85\u001b[0m                 \u001b[0mnr\u001b[0m\u001b[0;34m.\u001b[0m\u001b[0msave_model\u001b[0m\u001b[0;34m(\u001b[0m\u001b[0;34m)\u001b[0m\u001b[0;34m\u001b[0m\u001b[0;34m\u001b[0m\u001b[0m\n\u001b[1;32m     86\u001b[0m             \u001b[0;32melse\u001b[0m\u001b[0;34m:\u001b[0m\u001b[0;34m\u001b[0m\u001b[0;34m\u001b[0m\u001b[0m\n",
      "\u001b[0;31mIndexError\u001b[0m: index 100 is out of bounds for axis 0 with size 100"
     ]
    }
   ],
   "source": [
    "minmax.train_min_max(pretrained=False)"
   ]
  },
  {
   "cell_type": "code",
   "execution_count": null,
   "metadata": {},
   "outputs": [],
   "source": [
    "r = minmax.min_max_rel_prop(index=1)"
   ]
  },
  {
   "cell_type": "code",
   "execution_count": null,
   "metadata": {},
   "outputs": [],
   "source": []
  }
 ]
}