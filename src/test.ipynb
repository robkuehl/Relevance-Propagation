{
 "cells": [
  {
   "cell_type": "code",
   "execution_count": 1,
   "metadata": {},
   "outputs": [
    {
     "output_type": "stream",
     "name": "stderr",
     "text": "Using TensorFlow backend.\n"
    }
   ],
   "source": [
    "from data.get_voc_data import * \n",
    "import numpy as np\n",
    "from sklearn.model_selection import train_test_split\n",
    "from sklearn.utils import shuffle\n",
    "from models import multilabel_cnn_classifier"
   ]
  },
  {
   "cell_type": "code",
   "execution_count": 2,
   "metadata": {},
   "outputs": [],
   "source": [
    "classes = ['person', 'horse']"
   ]
  },
  {
   "cell_type": "code",
   "execution_count": 3,
   "metadata": {},
   "outputs": [],
   "source": [
    "label_df = get_voc_labels(voc_path='/home/robin/Documents/VOCdevkit/VOC2012', classes=classes)"
   ]
  },
  {
   "cell_type": "code",
   "execution_count": 4,
   "metadata": {},
   "outputs": [],
   "source": [
    "horse_and_person_df = label_df[(label_df==[1,1]).all(axis=1)]\n",
    "horse_df = label_df[(label_df==[0,1]).all(axis=1)]\n",
    "person_df = label_df[(label_df==[1,0]).all(axis=1)]"
   ]
  },
  {
   "cell_type": "code",
   "execution_count": 5,
   "metadata": {},
   "outputs": [],
   "source": [
    "new_person_df = person_df.sample(horse_df.shape[0])"
   ]
  },
  {
   "cell_type": "code",
   "execution_count": 6,
   "metadata": {},
   "outputs": [],
   "source": [
    "new_label_df = pd.concat([horse_df, new_person_df, horse_and_person_df])"
   ]
  },
  {
   "cell_type": "code",
   "execution_count": 7,
   "metadata": {},
   "outputs": [],
   "source": [
    "new_label_df = shuffle(new_label_df)\n",
    "images = get_voc_images(voc_path='/home/robin/Documents/VOCdevkit/VOC2012', image_type='reshaped', label_df=new_label_df)\n",
    "labels = new_label_df.values"
   ]
  },
  {
   "cell_type": "code",
   "execution_count": 8,
   "metadata": {},
   "outputs": [],
   "source": [
    "train_images, test_images, train_labels, test_labels = train_test_split(images, labels, test_size=0.2, random_state=42)"
   ]
  },
  {
   "cell_type": "code",
   "execution_count": 9,
   "metadata": {},
   "outputs": [
    {
     "output_type": "stream",
     "name": "stdout",
     "text": "(250, 250, 3)\n(631, 2)\n"
    }
   ],
   "source": [
    "print(train_images[0].shape)\n",
    "print(train_labels.shape)"
   ]
  },
  {
   "cell_type": "code",
   "execution_count": 10,
   "metadata": {},
   "outputs": [
    {
     "output_type": "stream",
     "name": "stdout",
     "text": "Model: \"sequential_1\"\n_________________________________________________________________\nLayer (type)                 Output Shape              Param #   \n=================================================================\nconv2d_1 (Conv2D)            (None, 250, 250, 32)      896       \n_________________________________________________________________\nconv2d_2 (Conv2D)            (None, 250, 250, 32)      9248      \n_________________________________________________________________\nmax_pooling2d_1 (MaxPooling2 (None, 125, 125, 32)      0         \n_________________________________________________________________\ndropout_1 (Dropout)          (None, 125, 125, 32)      0         \n_________________________________________________________________\nconv2d_3 (Conv2D)            (None, 125, 125, 64)      18496     \n_________________________________________________________________\nconv2d_4 (Conv2D)            (None, 125, 125, 64)      36928     \n_________________________________________________________________\nmax_pooling2d_2 (MaxPooling2 (None, 62, 62, 64)        0         \n_________________________________________________________________\ndropout_2 (Dropout)          (None, 62, 62, 64)        0         \n_________________________________________________________________\nconv2d_5 (Conv2D)            (None, 62, 62, 128)       73856     \n_________________________________________________________________\nconv2d_6 (Conv2D)            (None, 62, 62, 128)       147584    \n_________________________________________________________________\nmax_pooling2d_3 (MaxPooling2 (None, 31, 31, 128)       0         \n_________________________________________________________________\ndropout_3 (Dropout)          (None, 31, 31, 128)       0         \n_________________________________________________________________\nflatten_1 (Flatten)          (None, 123008)            0         \n_________________________________________________________________\ndense_1 (Dense)              (None, 128)               15745152  \n_________________________________________________________________\ndropout_4 (Dropout)          (None, 128)               0         \n_________________________________________________________________\ndense_2 (Dense)              (None, 2)                 258       \n=================================================================\nTotal params: 16,032,418\nTrainable params: 16,032,418\nNon-trainable params: 0\n_________________________________________________________________\nTrain on 567 samples, validate on 64 samples\nEpoch 1/10\n567/567 [==============================] - 53s 93ms/step - loss: 308.3819 - accuracy: 0.5882 - val_loss: 0.6498 - val_accuracy: 0.6406\nEpoch 2/10\n567/567 [==============================] - 53s 94ms/step - loss: 0.6555 - accuracy: 0.6437 - val_loss: 0.6747 - val_accuracy: 0.6406\nEpoch 3/10\n567/567 [==============================] - 53s 93ms/step - loss: 0.6526 - accuracy: 0.6675 - val_loss: 0.6487 - val_accuracy: 0.6328\nEpoch 4/10\n567/567 [==============================] - 53s 93ms/step - loss: 0.6216 - accuracy: 0.6737 - val_loss: 0.6551 - val_accuracy: 0.6328\nEpoch 5/10\n567/567 [==============================] - 52s 93ms/step - loss: 0.6097 - accuracy: 0.6737 - val_loss: 0.6856 - val_accuracy: 0.6328\nEpoch 6/10\n567/567 [==============================] - 53s 93ms/step - loss: 0.5779 - accuracy: 0.6993 - val_loss: 0.8625 - val_accuracy: 0.6094\nEpoch 7/10\n567/567 [==============================] - 52s 92ms/step - loss: 0.5379 - accuracy: 0.7275 - val_loss: 1.0188 - val_accuracy: 0.5938\nEpoch 8/10\n567/567 [==============================] - 52s 92ms/step - loss: 0.5417 - accuracy: 0.7266 - val_loss: 1.1001 - val_accuracy: 0.6016\nEpoch 9/10\n567/567 [==============================] - 53s 93ms/step - loss: 0.5490 - accuracy: 0.7451 - val_loss: 1.2966 - val_accuracy: 0.6172\nEpoch 10/10\n567/567 [==============================] - 53s 93ms/step - loss: 0.4872 - accuracy: 0.7663 - val_loss: 1.1060 - val_accuracy: 0.5781\n158/158 [==============================] - 3s 17ms/step\n"
    },
    {
     "output_type": "execute_result",
     "data": {
      "text/plain": "[1.0299225411837614, 0.642405092716217]"
     },
     "metadata": {},
     "execution_count": 10
    }
   ],
   "source": [
    "from data.get_data import get_fashion_mnist, get_cifar10\n",
    "from keras.models import Sequential\n",
    "from keras.layers import Dense, Conv2D, Flatten, MaxPooling2D, AveragePooling2D, BatchNormalization, Dropout\n",
    "import numpy as np\n",
    "import matplotlib.pyplot as plt\n",
    "import tensorflow as tf\n",
    "from keras.callbacks import ModelCheckpoint, EarlyStopping\n",
    "from datetime import datetime\n",
    "import matplotlib.pyplot as plt\n",
    "from os.path import join as pathjoin\n",
    "import os\n",
    "from PIL import Image\n",
    "from keras.optimizers import SGD\n",
    "import ntpath\n",
    "\n",
    "model = Sequential()\n",
    "model.add(Conv2D(32, (3, 3), activation='relu', kernel_initializer='he_uniform', padding='same', input_shape=train_images[0].shape))\n",
    "model.add(Conv2D(32, (3, 3), activation='relu', kernel_initializer='he_uniform', padding='same'))\n",
    "model.add(MaxPooling2D((2, 2)))\n",
    "model.add(Dropout(0.2))\n",
    "model.add(Conv2D(64, (3, 3), activation='relu', kernel_initializer='he_uniform', padding='same'))\n",
    "model.add(Conv2D(64, (3, 3), activation='relu', kernel_initializer='he_uniform', padding='same'))\n",
    "model.add(MaxPooling2D((2, 2)))\n",
    "model.add(Dropout(0.2))\n",
    "model.add(Conv2D(128, (3, 3), activation='relu', kernel_initializer='he_uniform', padding='same'))\n",
    "model.add(Conv2D(128, (3, 3), activation='relu', kernel_initializer='he_uniform', padding='same'))\n",
    "model.add(MaxPooling2D((2, 2)))\n",
    "model.add(Dropout(0.2))\n",
    "model.add(Flatten())\n",
    "model.add(Dense(128, activation='relu', kernel_initializer='he_uniform'))\n",
    "model.add(Dropout(0.2))\n",
    "model.add(Dense(len(classes), activation='sigmoid'))\n",
    "\n",
    " \n",
    "opt = 'adam'\n",
    "model.compile(optimizer=opt,\n",
    "        loss='binary_crossentropy',\n",
    "        metrics=['accuracy'])\n",
    "model.summary()\n",
    "\n",
    "model.fit(x=train_images, y=train_labels, batch_size=10, epochs=10, validation_split=0.1)\n",
    "model.evaluate(x=test_images, y=test_labels, verbose=1)"
   ]
  },
  {
   "cell_type": "code",
   "execution_count": 11,
   "metadata": {},
   "outputs": [],
   "source": [
    "def eval(model, test_images, test_labels, classes):\n",
    "        in_top1 = []\n",
    "        in_top3 = []\n",
    "        top_3_predictions = []\n",
    "        for i in range(test_images.shape[0]):\n",
    "            image = test_images[i]\n",
    "            prediction = model.predict(np.asarray([image]))\n",
    "            top_3 = [classes[j] for j in list(prediction[0].argsort()[-3:][::-1])]\n",
    "            in_top1.append(int(np.argmax(test_labels[i])==np.argmax(prediction[0])))\n",
    "            is_in_top3 = int(np.argmax(test_labels[i]) in list(prediction[0].argsort()[-3:][::-1]))\n",
    "            in_top3.append(is_in_top3)\n",
    "            top_3_predictions.append((is_in_top3, top_3, classes[np.argmax(test_labels[i])]))\n",
    "        top1_score = sum(in_top1)/len(in_top1)\n",
    "        top3_score = sum(in_top3)/len(in_top3)\n",
    "        \n",
    "\n",
    "            \n",
    "        return top1_score, top3_score, top_3_predictions"
   ]
  },
  {
   "cell_type": "code",
   "execution_count": 12,
   "metadata": {},
   "outputs": [],
   "source": [
    "top1_score, top3_score, top_3_predictions = eval(model, test_images, test_labels, classes)"
   ]
  },
  {
   "cell_type": "code",
   "execution_count": 13,
   "metadata": {},
   "outputs": [
    {
     "output_type": "stream",
     "name": "stdout",
     "text": "0.5316455696202531\n1.0\n"
    }
   ],
   "source": [
    "print(top1_score)\n",
    "print(top3_score)"
   ]
  },
  {
   "cell_type": "code",
   "execution_count": 19,
   "metadata": {},
   "outputs": [
    {
     "output_type": "execute_result",
     "data": {
      "text/plain": "0.5316455696202531"
     },
     "metadata": {},
     "execution_count": 19
    }
   ],
   "source": [
    "sum([ (element[1][0]==element[2]) for element in top_3_predictions])/len(top_3_predictions)"
   ]
  },
  {
   "cell_type": "code",
   "execution_count": 20,
   "metadata": {},
   "outputs": [
    {
     "output_type": "execute_result",
     "data": {
      "text/plain": "'1234'"
     },
     "metadata": {},
     "execution_count": 20
    }
   ],
   "source": [
    "word = 'voc_1234'\n",
    "word[4:]"
   ]
  },
  {
   "cell_type": "code",
   "execution_count": null,
   "metadata": {},
   "outputs": [],
   "source": []
  }
 ],
 "metadata": {
  "language_info": {
   "codemirror_mode": {
    "name": "ipython",
    "version": 3
   },
   "file_extension": ".py",
   "mimetype": "text/x-python",
   "name": "python",
   "nbconvert_exporter": "python",
   "pygments_lexer": "ipython3",
   "version": "3.7.7-final"
  },
  "orig_nbformat": 2,
  "kernelspec": {
   "name": "python3",
   "display_name": "Python 3"
  }
 },
 "nbformat": 4,
 "nbformat_minor": 2
}