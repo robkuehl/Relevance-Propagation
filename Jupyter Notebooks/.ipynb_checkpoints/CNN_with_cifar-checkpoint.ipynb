{
 "cells": [
  {
   "cell_type": "code",
   "execution_count": 67,
   "metadata": {},
   "outputs": [],
   "source": [
    "from keras.models import Sequential\n",
    "from keras.layers import Dense, Conv2D, Flatten, MaxPooling2D, AveragePooling2D\n",
    "import numpy as np\n",
    "import matplotlib.pyplot as plt\n",
    "import tensorflow as tf\n",
    "\n",
    "# if GPU is used\n",
    "physical_devices = tf.config.list_physical_devices('GPU')\n",
    "try:\n",
    "  tf.config.experimental.set_memory_growth(physical_devices[0], True)\n",
    "except:\n",
    "  # Invalid device or cannot modify virtual devices once initialized.\n",
    "  pass\n"
   ]
  },
  {
   "cell_type": "code",
   "execution_count": 24,
   "metadata": {},
   "outputs": [],
   "source": [
    "(x_train, y_train), (x_test, y_test) = tf.keras.datasets.cifar10.load_data()\n",
    "classes = {0 : 'airplane',\n",
    "1 : 'automobile',\n",
    "2 : 'bird',\n",
    "3 : 'cat',\n",
    "4 : 'deer',\n",
    "5 : 'dog',\n",
    "6 : 'frog',\n",
    "7 : 'horse',\n",
    "8 : 'ship',\n",
    "9 : 'truck'}"
   ]
  },
  {
   "cell_type": "code",
   "execution_count": 3,
   "metadata": {},
   "outputs": [],
   "source": [
    "from sklearn.preprocessing import OneHotEncoder\n",
    "\n",
    "onehot_encoder = OneHotEncoder(sparse=False)\n",
    "y_train_enc = onehot_encoder.fit_transform(y_train)\n",
    "y_test_enc = onehot_encoder.fit_transform(y_test)"
   ]
  },
  {
   "cell_type": "code",
   "execution_count": 11,
   "metadata": {},
   "outputs": [],
   "source": [
    "#create model\n",
    "model = Sequential()\n",
    "model.add(Conv2D(32, (3, 3), activation='relu', input_shape=x_train[0].shape))\n",
    "model.add(MaxPooling2D((2, 2)))\n",
    "model.add(Conv2D(64, (3, 3), activation='relu'))\n",
    "model.add(MaxPooling2D((2, 2)))\n",
    "model.add(Conv2D(128, (3, 3), activation='relu'))\n",
    "model.add(Conv2D(256, kernel_size=3, activation='relu', ))\n",
    "model.add(Flatten())\n",
    "model.add(Dense(40, activation='relu'))\n",
    "model.add(Dense(10, activation='sigmoid'))"
   ]
  },
  {
   "cell_type": "code",
   "execution_count": 12,
   "metadata": {},
   "outputs": [],
   "source": [
    "model.compile(optimizer='adam',\n",
    "              loss='binary_crossentropy',\n",
    "              metrics=['accuracy'])"
   ]
  },
  {
   "cell_type": "code",
   "execution_count": 13,
   "metadata": {},
   "outputs": [
    {
     "name": "stdout",
     "output_type": "stream",
     "text": [
      "Model: \"sequential_6\"\n",
      "_________________________________________________________________\n",
      "Layer (type)                 Output Shape              Param #   \n",
      "=================================================================\n",
      "conv2d_22 (Conv2D)           (None, 30, 30, 32)        896       \n",
      "_________________________________________________________________\n",
      "max_pooling2d_13 (MaxPooling (None, 15, 15, 32)        0         \n",
      "_________________________________________________________________\n",
      "conv2d_23 (Conv2D)           (None, 13, 13, 64)        18496     \n",
      "_________________________________________________________________\n",
      "max_pooling2d_14 (MaxPooling (None, 6, 6, 64)          0         \n",
      "_________________________________________________________________\n",
      "conv2d_24 (Conv2D)           (None, 4, 4, 128)         73856     \n",
      "_________________________________________________________________\n",
      "conv2d_25 (Conv2D)           (None, 2, 2, 256)         295168    \n",
      "_________________________________________________________________\n",
      "flatten_3 (Flatten)          (None, 1024)              0         \n",
      "_________________________________________________________________\n",
      "dense_5 (Dense)              (None, 40)                41000     \n",
      "_________________________________________________________________\n",
      "dense_6 (Dense)              (None, 10)                410       \n",
      "=================================================================\n",
      "Total params: 429,826\n",
      "Trainable params: 429,826\n",
      "Non-trainable params: 0\n",
      "_________________________________________________________________\n"
     ]
    }
   ],
   "source": [
    "model.summary()"
   ]
  },
  {
   "cell_type": "code",
   "execution_count": 14,
   "metadata": {},
   "outputs": [
    {
     "name": "stdout",
     "output_type": "stream",
     "text": [
      "Epoch 1/10\n",
      "50000/50000 [==============================] - 29s 573us/step - loss: 0.2757 - accuracy: 0.9054\n",
      "Epoch 2/10\n",
      "50000/50000 [==============================] - 5s 90us/step - loss: 0.2013 - accuracy: 0.9231\n",
      "Epoch 3/10\n",
      "50000/50000 [==============================] - 5s 101us/step - loss: 0.1729 - accuracy: 0.9338\n",
      "Epoch 4/10\n",
      "50000/50000 [==============================] - 4s 82us/step - loss: 0.1540 - accuracy: 0.9409\n",
      "Epoch 5/10\n",
      "50000/50000 [==============================] - 4s 81us/step - loss: 0.1407 - accuracy: 0.9463\n",
      "Epoch 6/10\n",
      "50000/50000 [==============================] - 5s 95us/step - loss: 0.1279 - accuracy: 0.9510\n",
      "Epoch 7/10\n",
      "50000/50000 [==============================] - 4s 86us/step - loss: 0.1159 - accuracy: 0.9557\n",
      "Epoch 8/10\n",
      "50000/50000 [==============================] - 4s 76us/step - loss: 0.1041 - accuracy: 0.9603\n",
      "Epoch 9/10\n",
      "50000/50000 [==============================] - 4s 78us/step - loss: 0.0944 - accuracy: 0.9640\n",
      "Epoch 10/10\n",
      "50000/50000 [==============================] - 4s 74us/step - loss: 0.0835 - accuracy: 0.9680\n"
     ]
    },
    {
     "data": {
      "text/plain": [
       "<keras.callbacks.callbacks.History at 0x7f1d500f72d0>"
      ]
     },
     "execution_count": 14,
     "metadata": {},
     "output_type": "execute_result"
    }
   ],
   "source": [
    "model.fit(x_train, y_train_enc, epochs=10, batch_size=64)"
   ]
  },
  {
   "cell_type": "code",
   "execution_count": 15,
   "metadata": {},
   "outputs": [
    {
     "name": "stdout",
     "output_type": "stream",
     "text": [
      "10000/10000 [==============================] - 1s 64us/step\n"
     ]
    },
    {
     "data": {
      "text/plain": [
       "[0.1820922269821167, 0.9404000043869019]"
      ]
     },
     "execution_count": 15,
     "metadata": {},
     "output_type": "execute_result"
    }
   ],
   "source": [
    "model.evaluate(x_test,y_test_enc,batch_size=64)"
   ]
  },
  {
   "cell_type": "code",
   "execution_count": 62,
   "metadata": {},
   "outputs": [],
   "source": [
    "def pred(model, i):\n",
    "    prediction = model.predict(np.array([x_test[i]]))\n",
    "    plt.imshow(x_test[i])\n",
    "    print('Correct Label: {}\\n'.format(classes[y_test[i][0]]))\n",
    "    for i in range(10):\n",
    "        print('{}:\\t\\t {:.2f}'.format(classes[i], prediction[0][i]))\n",
    "    print('\\nNetwork Decision: {}'.format(classes[np.argmax(prediction)]))\n",
    "    "
   ]
  },
  {
   "cell_type": "code",
   "execution_count": 63,
   "metadata": {},
   "outputs": [
    {
     "name": "stdout",
     "output_type": "stream",
     "text": [
      "Correct Label: deer\n",
      "\n",
      "airplane:\t\t 0.00\n",
      "automobile:\t\t 0.00\n",
      "bird:\t\t 0.13\n",
      "cat:\t\t 0.03\n",
      "deer:\t\t 0.19\n",
      "dog:\t\t 0.50\n",
      "frog:\t\t 0.01\n",
      "horse:\t\t 0.26\n",
      "ship:\t\t 0.00\n",
      "truck:\t\t 0.00\n",
      "\n",
      "Network Decision: dog\n"
     ]
    },
    {
     "data": {
      "image/png": "[encoded data removed]",
      "text/plain": [
       "<Figure size 432x288 with 1 Axes>"
      ]
     },
     "metadata": {
      "needs_background": "light"
     },
     "output_type": "display_data"
    }
   ],
   "source": [
    "pred(model, 100)"
   ]
  },
  {
   "cell_type": "code",
   "execution_count": null,
   "metadata": {},
   "outputs": [],
   "source": []
  },
  {
   "cell_type": "code",
   "execution_count": null,
   "metadata": {},
   "outputs": [],
   "source": []
  },
  {
   "cell_type": "code",
   "execution_count": null,
   "metadata": {},
   "outputs": [],
   "source": []
  },
  {
   "cell_type": "code",
   "execution_count": null,
   "metadata": {},
   "outputs": [],
   "source": []
  },
  {
   "cell_type": "code",
   "execution_count": null,
   "metadata": {},
   "outputs": [],
   "source": []
  },
  {
   "cell_type": "code",
   "execution_count": 72,
   "metadata": {},
   "outputs": [],
   "source": [
    "#LeNet5\n",
    "import keras\n",
    "\n",
    "LeNet5 = keras.Sequential()\n",
    "\n",
    "LeNet5.add(Conv2D(filters=6, kernel_size=(3, 3), activation='relu', input_shape=x_train[0].shape))\n",
    "LeNet5.add(AveragePooling2D())\n",
    "\n",
    "LeNet5.add(Conv2D(filters=16, kernel_size=(3, 3), activation='relu'))\n",
    "LeNet5.add(AveragePooling2D())\n",
    "\n",
    "LeNet5.add(Flatten())\n",
    "\n",
    "LeNet5.add(Dense(units=120, activation='relu'))\n",
    "\n",
    "LeNet5.add(Dense(units=84, activation='relu'))\n",
    "\n",
    "LeNet5.add(Dense(units=10, activation = 'softmax'))"
   ]
  },
  {
   "cell_type": "code",
   "execution_count": 73,
   "metadata": {},
   "outputs": [],
   "source": [
    "LeNet5.compile(optimizer='adam',\n",
    "              loss='binary_crossentropy',\n",
    "              metrics=['accuracy'])"
   ]
  },
  {
   "cell_type": "code",
   "execution_count": 74,
   "metadata": {},
   "outputs": [
    {
     "name": "stdout",
     "output_type": "stream",
     "text": [
      "Model: \"sequential_10\"\n",
      "_________________________________________________________________\n",
      "Layer (type)                 Output Shape              Param #   \n",
      "=================================================================\n",
      "conv2d_29 (Conv2D)           (None, 30, 30, 6)         168       \n",
      "_________________________________________________________________\n",
      "average_pooling2d_3 (Average (None, 15, 15, 6)         0         \n",
      "_________________________________________________________________\n",
      "conv2d_30 (Conv2D)           (None, 13, 13, 16)        880       \n",
      "_________________________________________________________________\n",
      "average_pooling2d_4 (Average (None, 6, 6, 16)          0         \n",
      "_________________________________________________________________\n",
      "flatten_5 (Flatten)          (None, 576)               0         \n",
      "_________________________________________________________________\n",
      "dense_10 (Dense)             (None, 120)               69240     \n",
      "_________________________________________________________________\n",
      "dense_11 (Dense)             (None, 84)                10164     \n",
      "_________________________________________________________________\n",
      "dense_12 (Dense)             (None, 10)                850       \n",
      "=================================================================\n",
      "Total params: 81,302\n",
      "Trainable params: 81,302\n",
      "Non-trainable params: 0\n",
      "_________________________________________________________________\n"
     ]
    }
   ],
   "source": [
    "LeNet5.summary()"
   ]
  },
  {
   "cell_type": "code",
   "execution_count": 75,
   "metadata": {},
   "outputs": [
    {
     "name": "stdout",
     "output_type": "stream",
     "text": [
      "Epoch 1/10\n",
      "50000/50000 [==============================] - 16s 325us/step - loss: 0.3140 - accuracy: 0.9030\n",
      "Epoch 2/10\n",
      "50000/50000 [==============================] - 4s 72us/step - loss: 0.2097 - accuracy: 0.9194\n",
      "Epoch 3/10\n",
      "50000/50000 [==============================] - 3s 70us/step - loss: 0.1915 - accuracy: 0.9260\n",
      "Epoch 4/10\n",
      "50000/50000 [==============================] - 3s 63us/step - loss: 0.1786 - accuracy: 0.9307\n",
      "Epoch 5/10\n",
      "50000/50000 [==============================] - 4s 73us/step - loss: 0.1682 - accuracy: 0.9350\n",
      "Epoch 6/10\n",
      "50000/50000 [==============================] - 4s 71us/step - loss: 0.1601 - accuracy: 0.9376\n",
      "Epoch 7/10\n",
      "50000/50000 [==============================] - 4s 77us/step - loss: 0.1510 - accuracy: 0.9413\n",
      "Epoch 8/10\n",
      "50000/50000 [==============================] - 4s 83us/step - loss: 0.1429 - accuracy: 0.9445\n",
      "Epoch 9/10\n",
      "50000/50000 [==============================] - 3s 63us/step - loss: 0.1356 - accuracy: 0.9473\n",
      "Epoch 10/10\n",
      "50000/50000 [==============================] - 4s 74us/step - loss: 0.1298 - accuracy: 0.9499\n"
     ]
    },
    {
     "data": {
      "text/plain": [
       "<keras.callbacks.callbacks.History at 0x7f1c290c6250>"
      ]
     },
     "execution_count": 75,
     "metadata": {},
     "output_type": "execute_result"
    }
   ],
   "source": [
    "LeNet5.fit(x_train, y_train_enc, epochs=10, batch_size=64)"
   ]
  },
  {
   "cell_type": "code",
   "execution_count": 76,
   "metadata": {},
   "outputs": [
    {
     "name": "stdout",
     "output_type": "stream",
     "text": [
      "10000/10000 [==============================] - 0s 33us/step\n"
     ]
    },
    {
     "data": {
      "text/plain": [
       "[0.18117533972263336, 0.9330201148986816]"
      ]
     },
     "execution_count": 76,
     "metadata": {},
     "output_type": "execute_result"
    }
   ],
   "source": [
    "LeNet5.evaluate(x_test,y_test_enc,batch_size=64)"
   ]
  },
  {
   "cell_type": "code",
   "execution_count": 80,
   "metadata": {
    "scrolled": true
   },
   "outputs": [
    {
     "name": "stdout",
     "output_type": "stream",
     "text": [
      "Correct Label: frog\n",
      "\n",
      "airplane:\t\t 0.00\n",
      "automobile:\t\t 0.00\n",
      "bird:\t\t 0.00\n",
      "cat:\t\t 0.00\n",
      "deer:\t\t 0.00\n",
      "dog:\t\t 0.00\n",
      "frog:\t\t 1.00\n",
      "horse:\t\t 0.00\n",
      "ship:\t\t 0.00\n",
      "truck:\t\t 0.00\n",
      "\n",
      "Network Decision: frog\n"
     ]
    },
    {
     "data": {
      "image/png": "[encoded data removed]",
      "text/plain": [
       "<Figure size 432x288 with 1 Axes>"
      ]
     },
     "metadata": {
      "needs_background": "light"
     },
     "output_type": "display_data"
    }
   ],
   "source": [
    "pred(model, 300)"
   ]
  },
  {
   "cell_type": "code",
   "execution_count": 2,
   "metadata": {},
   "outputs": [],
   "source": [
    "from tensorflow.keras.datasets import mnist\n",
    "(train_images, train_labels), (test_images, test_labels) = mnist.load_data()"
   ]
  },
  {
   "cell_type": "code",
   "execution_count": 6,
   "metadata": {},
   "outputs": [
    {
     "data": {
      "text/plain": [
       "10"
      ]
     },
     "execution_count": 6,
     "metadata": {},
     "output_type": "execute_result"
    }
   ],
   "source": [
    "len(set(train_labels))"
   ]
  },
  {
   "cell_type": "code",
   "execution_count": null,
   "metadata": {},
   "outputs": [],
   "source": []
  }
 ],
 "metadata": {
  "kernelspec": {
   "display_name": "Python 3",
   "language": "python",
   "name": "python3"
  },
  "language_info": {
   "codemirror_mode": {
    "name": "ipython",
    "version": 3
   },
   "file_extension": ".py",
   "mimetype": "text/x-python",
   "name": "python",
   "nbconvert_exporter": "python",
   "pygments_lexer": "ipython3",
   "version": "3.7.7"
  }
 },
 "nbformat": 4,
 "nbformat_minor": 4
}
