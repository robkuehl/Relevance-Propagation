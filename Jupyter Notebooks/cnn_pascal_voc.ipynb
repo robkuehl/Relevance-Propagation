{
 "cells": [
  {
   "cell_type": "code",
   "execution_count": 1,
   "metadata": {},
   "outputs": [],
   "source": [
    "# Imports\n",
    "\n",
    "import os\n",
    "from pathlib import Path\n",
    "from xml.etree import ElementTree\n",
    "from os.path import join as pathjoin\n",
    "import numpy as np\n",
    "from PIL import Image\n",
    "import gc\n",
    "import pickle\n",
    "import pandas as pd\n",
    "from sklearn.preprocessing import MultiLabelBinarizer\n",
    "import time\n",
    "\n"
   ]
  },
  {
   "cell_type": "code",
   "execution_count": 2,
   "metadata": {},
   "outputs": [],
   "source": [
    "# Method to load images and store them as numpy binarys\n",
    "\n",
    "def images_to_numpy(voc_path):\n",
    "    # Please provide this path\n",
    "    voc_path = voc_path\n",
    "\n",
    "    store_path = pathjoin(voc_path,'resized_images_as_pickle')\n",
    "    if not os.path.isdir(store_path):\n",
    "        os.mkdir(store_path)\n",
    "\n",
    "    for file in os.listdir(pathjoin(voc_path, 'JPEGImages_resized')):\n",
    "        filename = os.path.splitext(file)[0]\n",
    "        if os.path.isfile(pathjoin(store_path, filename+'.pickle')):\n",
    "            pass\n",
    "        else:\n",
    "            image_path = pathjoin(voc_path, 'JPEGImages_resized', filename+'.jpg')\n",
    "            image = np.asarray(Image.open(image_path))\n",
    "            with open(pathjoin(store_path, filename+'.pickle'), 'wb') as file:\n",
    "                pickle.dump(image, file)\n",
    "\n",
    "\n",
    "# Create the labels to the corresponding images from the xml files and store the labels as pickle as well\n",
    "                \n",
    "def labels_to_pickle(voc_path):\n",
    "    voc_path = voc_path\n",
    "    if os.path.isfile(pathjoin(voc_path, 'labels_resized.pickle')):\n",
    "        pass\n",
    "    else:\n",
    "        xml_path = pathjoin(voc_path, 'Annotations')\n",
    "        labels = []\n",
    "        for file in os.listdir(pathjoin(voc_path, 'resized_images_as_pickle')):\n",
    "            tree = ElementTree.parse(pathjoin(xml_path, os.path.splitext(file)[0]+'.xml'))\n",
    "            root = tree.getroot()\n",
    "            labels.append(set([obj.find('name').text for obj in root.findall('.//object')]))\n",
    "        with open(pathjoin(voc_path, 'labels_resized.pickle'), 'wb') as f:\n",
    "            pickle.dump(labels, f)"
   ]
  },
  {
   "cell_type": "code",
   "execution_count": 3,
   "metadata": {},
   "outputs": [],
   "source": [
    "# create a dataframe with binary labels\n",
    "\n",
    "def get_voc_labels(voc_path):\n",
    "    voc_path = voc_path\n",
    "    labels = []\n",
    "    image_names = []\n",
    "    for file in os.listdir(pathjoin(voc_path, 'resized_images_as_pickle')):\n",
    "        image_names.append(os.path.splitext(file)[0])\n",
    "            \n",
    "    with open(pathjoin(voc_path, 'labels_resized.pickle'), 'rb') as label_file:\n",
    "        labels = pickle.load(label_file)\n",
    "\n",
    "    label_series = pd.Series(labels)\n",
    "\n",
    "    mlb = MultiLabelBinarizer()\n",
    "\n",
    "    label_df = pd.DataFrame(mlb.fit_transform(labels),\n",
    "                       columns=mlb.classes_,\n",
    "                       index=image_names)\n",
    "    \n",
    "    return label_df\n",
    "\n",
    "\n",
    "\n",
    "# Load the numpy-images from the pickle files\n",
    "\n",
    "def get_voc_images(voc_path: Path, image_names):\n",
    "    voc_path = voc_path\n",
    "    images = []\n",
    "    for file in image_names:\n",
    "        image_path = pathjoin(voc_path, 'resized_images_as_pickle', file+'.pickle')\n",
    "        with open(image_path, 'rb') as image_file:\n",
    "            images.append(pickle.load(image_file))\n",
    "            \n",
    "    return images\n",
    "    "
   ]
  },
  {
   "cell_type": "code",
   "execution_count": 4,
   "metadata": {},
   "outputs": [],
   "source": [
    "# Define the Path of the VOC-data\n",
    "\n",
    "voc_path = Path(\"/home/robin/Downloads/VOCdevkit/VOC2012\")"
   ]
  },
  {
   "cell_type": "code",
   "execution_count": 5,
   "metadata": {},
   "outputs": [],
   "source": [
    "# pickle images and labels\n",
    "images_to_numpy(voc_path)\n",
    "labels_to_pickle(voc_path)"
   ]
  },
  {
   "cell_type": "code",
   "execution_count": 6,
   "metadata": {},
   "outputs": [
    {
     "data": {
      "text/html": [
       "<div>\n",
       "<style scoped>\n",
       "    .dataframe tbody tr th:only-of-type {\n",
       "        vertical-align: middle;\n",
       "    }\n",
       "\n",
       "    .dataframe tbody tr th {\n",
       "        vertical-align: top;\n",
       "    }\n",
       "\n",
       "    .dataframe thead th {\n",
       "        text-align: right;\n",
       "    }\n",
       "</style>\n",
       "<table border=\"1\" class=\"dataframe\">\n",
       "  <thead>\n",
       "    <tr style=\"text-align: right;\">\n",
       "      <th></th>\n",
       "      <th>aeroplane</th>\n",
       "      <th>bicycle</th>\n",
       "      <th>bird</th>\n",
       "      <th>boat</th>\n",
       "      <th>bottle</th>\n",
       "      <th>bus</th>\n",
       "      <th>car</th>\n",
       "      <th>cat</th>\n",
       "      <th>chair</th>\n",
       "      <th>cow</th>\n",
       "      <th>diningtable</th>\n",
       "      <th>dog</th>\n",
       "      <th>horse</th>\n",
       "      <th>motorbike</th>\n",
       "      <th>person</th>\n",
       "      <th>pottedplant</th>\n",
       "      <th>sheep</th>\n",
       "      <th>sofa</th>\n",
       "      <th>train</th>\n",
       "      <th>tvmonitor</th>\n",
       "    </tr>\n",
       "  </thead>\n",
       "  <tbody>\n",
       "    <tr>\n",
       "      <th>2010_000621</th>\n",
       "      <td>0</td>\n",
       "      <td>0</td>\n",
       "      <td>1</td>\n",
       "      <td>0</td>\n",
       "      <td>0</td>\n",
       "      <td>0</td>\n",
       "      <td>0</td>\n",
       "      <td>0</td>\n",
       "      <td>0</td>\n",
       "      <td>0</td>\n",
       "      <td>0</td>\n",
       "      <td>0</td>\n",
       "      <td>0</td>\n",
       "      <td>0</td>\n",
       "      <td>0</td>\n",
       "      <td>0</td>\n",
       "      <td>0</td>\n",
       "      <td>0</td>\n",
       "      <td>0</td>\n",
       "      <td>0</td>\n",
       "    </tr>\n",
       "    <tr>\n",
       "      <th>2008_000244</th>\n",
       "      <td>0</td>\n",
       "      <td>0</td>\n",
       "      <td>0</td>\n",
       "      <td>0</td>\n",
       "      <td>0</td>\n",
       "      <td>0</td>\n",
       "      <td>0</td>\n",
       "      <td>0</td>\n",
       "      <td>0</td>\n",
       "      <td>0</td>\n",
       "      <td>0</td>\n",
       "      <td>0</td>\n",
       "      <td>0</td>\n",
       "      <td>0</td>\n",
       "      <td>0</td>\n",
       "      <td>0</td>\n",
       "      <td>0</td>\n",
       "      <td>0</td>\n",
       "      <td>0</td>\n",
       "      <td>1</td>\n",
       "    </tr>\n",
       "    <tr>\n",
       "      <th>2011_002715</th>\n",
       "      <td>0</td>\n",
       "      <td>0</td>\n",
       "      <td>1</td>\n",
       "      <td>0</td>\n",
       "      <td>0</td>\n",
       "      <td>0</td>\n",
       "      <td>0</td>\n",
       "      <td>0</td>\n",
       "      <td>0</td>\n",
       "      <td>0</td>\n",
       "      <td>0</td>\n",
       "      <td>0</td>\n",
       "      <td>0</td>\n",
       "      <td>0</td>\n",
       "      <td>0</td>\n",
       "      <td>0</td>\n",
       "      <td>0</td>\n",
       "      <td>0</td>\n",
       "      <td>0</td>\n",
       "      <td>0</td>\n",
       "    </tr>\n",
       "    <tr>\n",
       "      <th>2012_003277</th>\n",
       "      <td>0</td>\n",
       "      <td>0</td>\n",
       "      <td>0</td>\n",
       "      <td>0</td>\n",
       "      <td>0</td>\n",
       "      <td>0</td>\n",
       "      <td>0</td>\n",
       "      <td>0</td>\n",
       "      <td>0</td>\n",
       "      <td>0</td>\n",
       "      <td>0</td>\n",
       "      <td>0</td>\n",
       "      <td>0</td>\n",
       "      <td>0</td>\n",
       "      <td>1</td>\n",
       "      <td>0</td>\n",
       "      <td>0</td>\n",
       "      <td>0</td>\n",
       "      <td>0</td>\n",
       "      <td>0</td>\n",
       "    </tr>\n",
       "    <tr>\n",
       "      <th>2011_002590</th>\n",
       "      <td>0</td>\n",
       "      <td>0</td>\n",
       "      <td>0</td>\n",
       "      <td>0</td>\n",
       "      <td>1</td>\n",
       "      <td>0</td>\n",
       "      <td>0</td>\n",
       "      <td>0</td>\n",
       "      <td>0</td>\n",
       "      <td>0</td>\n",
       "      <td>0</td>\n",
       "      <td>0</td>\n",
       "      <td>0</td>\n",
       "      <td>0</td>\n",
       "      <td>1</td>\n",
       "      <td>0</td>\n",
       "      <td>0</td>\n",
       "      <td>0</td>\n",
       "      <td>0</td>\n",
       "      <td>0</td>\n",
       "    </tr>\n",
       "  </tbody>\n",
       "</table>\n",
       "</div>"
      ],
      "text/plain": [
       "             aeroplane  bicycle  bird  boat  bottle  bus  car  cat  chair  \\\n",
       "2010_000621          0        0     1     0       0    0    0    0      0   \n",
       "2008_000244          0        0     0     0       0    0    0    0      0   \n",
       "2011_002715          0        0     1     0       0    0    0    0      0   \n",
       "2012_003277          0        0     0     0       0    0    0    0      0   \n",
       "2011_002590          0        0     0     0       1    0    0    0      0   \n",
       "\n",
       "             cow  diningtable  dog  horse  motorbike  person  pottedplant  \\\n",
       "2010_000621    0            0    0      0          0       0            0   \n",
       "2008_000244    0            0    0      0          0       0            0   \n",
       "2011_002715    0            0    0      0          0       0            0   \n",
       "2012_003277    0            0    0      0          0       1            0   \n",
       "2011_002590    0            0    0      0          0       1            0   \n",
       "\n",
       "             sheep  sofa  train  tvmonitor  \n",
       "2010_000621      0     0      0          0  \n",
       "2008_000244      0     0      0          1  \n",
       "2011_002715      0     0      0          0  \n",
       "2012_003277      0     0      0          0  \n",
       "2011_002590      0     0      0          0  "
      ]
     },
     "execution_count": 6,
     "metadata": {},
     "output_type": "execute_result"
    }
   ],
   "source": [
    "# create the labels dataframe\n",
    "label_df = get_voc_labels(voc_path)\n",
    "label_df.head()"
   ]
  },
  {
   "cell_type": "code",
   "execution_count": 7,
   "metadata": {},
   "outputs": [],
   "source": [
    "def print_image(images, label_df, number):\n",
    "    image = Image.fromarray(images[number])\n",
    "    import matplotlib.pyplot as plt\n",
    "    plt.imshow(image)\n",
    "    print('Label: {}\\nBinary Label: {}'.format(list(label_df.columns), list(new_label_df.iloc[number])))"
   ]
  },
  {
   "cell_type": "code",
   "execution_count": 8,
   "metadata": {},
   "outputs": [],
   "source": [
    "# method to load data for a specific set of labels\n",
    "# it returns images for whom at least one of the labels is 1 and the corresponding label dataframe\n",
    "# if classes is None or empty it returns the whole dataset\n",
    "\n",
    "def get_data(voc_path: Path, label_df: pd.DataFrame , classes: list):\n",
    "    if classes == None or len(classes)==0:\n",
    "        classes = list(label_df.columns)\n",
    "    new_label_df = label_df[(label_df[classes]!=[0,0,0,0,0]).any(axis=1)][classes]\n",
    "    images = get_voc_images(voc_path, list(new_label_df.index))\n",
    "    \n",
    "    return new_label_df, images"
   ]
  },
  {
   "cell_type": "code",
   "execution_count": 9,
   "metadata": {},
   "outputs": [],
   "source": [
    "# create data with transportation\n",
    "\n",
    "transport_keys = ['car', 'bus', 'aeroplane', 'boat', 'train']\n",
    "new_label_df, images = get_data(voc_path, label_df, transport_keys)"
   ]
  },
  {
   "cell_type": "code",
   "execution_count": 10,
   "metadata": {},
   "outputs": [
    {
     "data": {
      "text/html": [
       "<div>\n",
       "<style scoped>\n",
       "    .dataframe tbody tr th:only-of-type {\n",
       "        vertical-align: middle;\n",
       "    }\n",
       "\n",
       "    .dataframe tbody tr th {\n",
       "        vertical-align: top;\n",
       "    }\n",
       "\n",
       "    .dataframe thead th {\n",
       "        text-align: right;\n",
       "    }\n",
       "</style>\n",
       "<table border=\"1\" class=\"dataframe\">\n",
       "  <thead>\n",
       "    <tr style=\"text-align: right;\">\n",
       "      <th></th>\n",
       "      <th>car</th>\n",
       "      <th>bus</th>\n",
       "      <th>aeroplane</th>\n",
       "      <th>boat</th>\n",
       "      <th>train</th>\n",
       "    </tr>\n",
       "  </thead>\n",
       "  <tbody>\n",
       "    <tr>\n",
       "      <th>2010_004263</th>\n",
       "      <td>1</td>\n",
       "      <td>1</td>\n",
       "      <td>0</td>\n",
       "      <td>0</td>\n",
       "      <td>0</td>\n",
       "    </tr>\n",
       "    <tr>\n",
       "      <th>2009_002000</th>\n",
       "      <td>1</td>\n",
       "      <td>0</td>\n",
       "      <td>0</td>\n",
       "      <td>0</td>\n",
       "      <td>0</td>\n",
       "    </tr>\n",
       "    <tr>\n",
       "      <th>2010_002937</th>\n",
       "      <td>0</td>\n",
       "      <td>0</td>\n",
       "      <td>0</td>\n",
       "      <td>0</td>\n",
       "      <td>1</td>\n",
       "    </tr>\n",
       "    <tr>\n",
       "      <th>2008_006368</th>\n",
       "      <td>0</td>\n",
       "      <td>0</td>\n",
       "      <td>0</td>\n",
       "      <td>0</td>\n",
       "      <td>1</td>\n",
       "    </tr>\n",
       "    <tr>\n",
       "      <th>2009_001865</th>\n",
       "      <td>0</td>\n",
       "      <td>0</td>\n",
       "      <td>0</td>\n",
       "      <td>0</td>\n",
       "      <td>1</td>\n",
       "    </tr>\n",
       "  </tbody>\n",
       "</table>\n",
       "</div>"
      ],
      "text/plain": [
       "             car  bus  aeroplane  boat  train\n",
       "2010_004263    1    1          0     0      0\n",
       "2009_002000    1    0          0     0      0\n",
       "2010_002937    0    0          0     0      1\n",
       "2008_006368    0    0          0     0      1\n",
       "2009_001865    0    0          0     0      1"
      ]
     },
     "execution_count": 10,
     "metadata": {},
     "output_type": "execute_result"
    }
   ],
   "source": [
    "new_label_df.head()"
   ]
  },
  {
   "cell_type": "code",
   "execution_count": 11,
   "metadata": {},
   "outputs": [
    {
     "name": "stdout",
     "output_type": "stream",
     "text": [
      "Label: ['car', 'bus', 'aeroplane', 'boat', 'train']\n",
      "Binary Label: [1, 1, 0, 0, 0]\n"
     ]
    },
    {
     "data": {
      "image/png": "[encoded data removed]",
      "text/plain": [
       "<Figure size 432x288 with 1 Axes>"
      ]
     },
     "metadata": {
      "needs_background": "light"
     },
     "output_type": "display_data"
    }
   ],
   "source": [
    "print_image(images, new_label_df, -1)"
   ]
  },
  {
   "cell_type": "markdown",
   "metadata": {},
   "source": [
    "# Modeling"
   ]
  },
  {
   "cell_type": "code",
   "execution_count": 12,
   "metadata": {},
   "outputs": [],
   "source": [
    "# split data for training\n",
    "\n",
    "from sklearn.model_selection import train_test_split\n",
    "\n",
    "train_images, test_images, train_labels, test_labels = train_test_split(images, new_label_df.values, test_size=0.1, random_state=42)\n",
    "train_images = np.asarray(train_images)\n",
    "test_images = np.asarray(test_images)\n",
    "\n",
    "classes = list(new_label_df.columns)"
   ]
  },
  {
   "cell_type": "code",
   "execution_count": 13,
   "metadata": {},
   "outputs": [
    {
     "name": "stdout",
     "output_type": "stream",
     "text": [
      "Number of train images: 2991\n",
      "Number of test images: 333\n"
     ]
    }
   ],
   "source": [
    "print('Number of train images: {}\\nNumber of test images: {}'.format(len(train_images), len(test_images)))"
   ]
  },
  {
   "cell_type": "code",
   "execution_count": 14,
   "metadata": {},
   "outputs": [],
   "source": [
    "import matplotlib.pyplot as plt\n",
    "\n",
    "def pred(model, i):\n",
    "    prediction = model.predict(np.array([test_images[i]]))\n",
    "    plt.imshow(test_images[i])\n",
    "    print('Correct Label: {}\\n'.format(classes[test_labels[i][0]]))\n",
    "    for i in range(len(classes)):\n",
    "        print('{}:\\t\\t {:.2f}'.format(classes[i], prediction[0][i]))\n",
    "    print('\\nNetwork Decision: {}'.format(classes[np.argmax(prediction)]))"
   ]
  },
  {
   "cell_type": "code",
   "execution_count": 15,
   "metadata": {},
   "outputs": [
    {
     "name": "stderr",
     "output_type": "stream",
     "text": [
      "Using TensorFlow backend.\n"
     ]
    }
   ],
   "source": [
    "from keras.models import Sequential\n",
    "from keras.layers import Dense, Conv2D, Flatten, MaxPool2D, AveragePooling2D, Dropout\n",
    "import numpy as np\n",
    "import tensorflow as tf\n",
    "\n",
    "# if GPU is used\n",
    "physical_devices = tf.config.list_physical_devices('GPU')\n",
    "try:\n",
    "  tf.config.experimental.set_memory_growth(physical_devices[0], True)\n",
    "except:\n",
    "  # Invalid device or cannot modify virtual devices once initialized.\n",
    "  pass"
   ]
  },
  {
   "cell_type": "markdown",
   "metadata": {},
   "source": [
    "vgg_model = Sequential()\n",
    "vgg_model.add(Conv2D(input_shape=train_images[0].shape,filters=64,kernel_size=(3,3),padding=\"same\", activation=\"relu\"))\n",
    "vgg_model.add(Conv2D(filters=64,kernel_size=(3,3),padding=\"same\", activation=\"relu\"))\n",
    "vgg_model.add(MaxPool2D(pool_size=(2,2),strides=(2,2)))\n",
    "\n",
    "vgg_model.add(Conv2D(filters=128, kernel_size=(3,3), padding=\"same\", activation=\"relu\"))\n",
    "vgg_model.add(Conv2D(filters=128, kernel_size=(3,3), padding=\"same\", activation=\"relu\"))\n",
    "vgg_model.add(MaxPool2D(pool_size=(2,2),strides=(2,2)))\n",
    "\n",
    "vgg_model.add(Conv2D(filters=256, kernel_size=(3,3), padding=\"same\", activation=\"relu\"))\n",
    "vgg_model.add(Conv2D(filters=256, kernel_size=(3,3), padding=\"same\", activation=\"relu\"))\n",
    "vgg_model.add(Conv2D(filters=256, kernel_size=(3,3), padding=\"same\", activation=\"relu\"))\n",
    "vgg_model.add(MaxPool2D(pool_size=(2,2),strides=(2,2)))\n",
    "\n",
    "vgg_model.add(Conv2D(filters=512, kernel_size=(3,3), padding=\"same\", activation=\"relu\"))\n",
    "vgg_model.add(Conv2D(filters=512, kernel_size=(3,3), padding=\"same\", activation=\"relu\"))\n",
    "vgg_model.add(Conv2D(filters=512, kernel_size=(3,3), padding=\"same\", activation=\"relu\"))\n",
    "vgg_model.add(MaxPool2D(pool_size=(2,2),strides=(2,2)))\n",
    "\n",
    "vgg_model.add(Conv2D(filters=512, kernel_size=(3,3), padding=\"same\", activation=\"relu\"))\n",
    "vgg_model.add(Conv2D(filters=512, kernel_size=(3,3), padding=\"same\", activation=\"relu\"))\n",
    "vgg_model.add(Conv2D(filters=512, kernel_size=(3,3), padding=\"same\", activation=\"relu\"))\n",
    "vgg_model.add(MaxPool2D(pool_size=(2,2),strides=(2,2)))\n",
    "\n",
    "vgg_model.add(Flatten())\n",
    "vgg_model.add(Dense(units=2048,activation=\"relu\"))\n",
    "vgg_model.add(Dropout(rate=0.1))\n",
    "vgg_model.add(Dense(units=1024,activation=\"relu\"))\n",
    "vgg_model.add(Dense(units=len(classes), activation=\"sigmoid\"))"
   ]
  },
  {
   "cell_type": "markdown",
   "metadata": {},
   "source": [
    "vgg_model.compile(optimizer='adam',\n",
    "              loss='binary_crossentropy',\n",
    "              metrics=['accuracy'])"
   ]
  },
  {
   "cell_type": "markdown",
   "metadata": {},
   "source": [
    "vgg_model.summary()"
   ]
  },
  {
   "cell_type": "code",
   "execution_count": 16,
   "metadata": {},
   "outputs": [],
   "source": [
    "from keras.callbacks import ModelCheckpoint, EarlyStopping\n",
    "checkpoint = ModelCheckpoint(\"vgg16.h5\", monitor='val_acc', verbose=1, save_best_only=True, save_weights_only=False, mode='auto', period=1)\n",
    "early = EarlyStopping(monitor='val_acc', min_delta=0, patience=20, verbose=1, mode='auto')"
   ]
  },
  {
   "cell_type": "markdown",
   "metadata": {},
   "source": [
    "vgg_hist = vgg_model.fit_generator(steps_per_epoch=25,generator=traindata, validation_data= testdata, validation_steps=10,epochs=50,callbacks=[checkpoint,early])\n",
    "pred(vgg_model, 10)"
   ]
  },
  {
   "cell_type": "code",
   "execution_count": 17,
   "metadata": {},
   "outputs": [],
   "source": [
    "#create model\n",
    "easy_model = Sequential()\n",
    "easy_model.add(Conv2D(32, (3, 3), activation='relu', input_shape=train_images[0].shape))\n",
    "easy_model.add(MaxPool2D((2, 2)))\n",
    "easy_model.add(Conv2D(64, (3, 3), activation='relu'))\n",
    "easy_model.add(MaxPool2D((2, 2)))\n",
    "easy_model.add(Conv2D(128, (3, 3), activation='relu'))\n",
    "easy_model.add(Conv2D(256, kernel_size=3, activation='relu', ))\n",
    "easy_model.add(Flatten())\n",
    "easy_model.add(Dense(40, activation='relu'))\n",
    "easy_model.add(Dense(len(classes), activation='sigmoid'))"
   ]
  },
  {
   "cell_type": "code",
   "execution_count": 18,
   "metadata": {},
   "outputs": [],
   "source": [
    "easy_model.compile(optimizer='adam',\n",
    "              loss='binary_crossentropy',\n",
    "              metrics=['accuracy'])"
   ]
  },
  {
   "cell_type": "code",
   "execution_count": 19,
   "metadata": {},
   "outputs": [
    {
     "name": "stdout",
     "output_type": "stream",
     "text": [
      "Model: \"sequential_1\"\n",
      "_________________________________________________________________\n",
      "Layer (type)                 Output Shape              Param #   \n",
      "=================================================================\n",
      "conv2d_1 (Conv2D)            (None, 248, 248, 32)      896       \n",
      "_________________________________________________________________\n",
      "max_pooling2d_1 (MaxPooling2 (None, 124, 124, 32)      0         \n",
      "_________________________________________________________________\n",
      "conv2d_2 (Conv2D)            (None, 122, 122, 64)      18496     \n",
      "_________________________________________________________________\n",
      "max_pooling2d_2 (MaxPooling2 (None, 61, 61, 64)        0         \n",
      "_________________________________________________________________\n",
      "conv2d_3 (Conv2D)            (None, 59, 59, 128)       73856     \n",
      "_________________________________________________________________\n",
      "conv2d_4 (Conv2D)            (None, 57, 57, 256)       295168    \n",
      "_________________________________________________________________\n",
      "flatten_1 (Flatten)          (None, 831744)            0         \n",
      "_________________________________________________________________\n",
      "dense_1 (Dense)              (None, 40)                33269800  \n",
      "_________________________________________________________________\n",
      "dense_2 (Dense)              (None, 5)                 205       \n",
      "=================================================================\n",
      "Total params: 33,658,421\n",
      "Trainable params: 33,658,421\n",
      "Non-trainable params: 0\n",
      "_________________________________________________________________\n"
     ]
    }
   ],
   "source": [
    "easy_model.summary()"
   ]
  },
  {
   "cell_type": "code",
   "execution_count": 20,
   "metadata": {},
   "outputs": [
    {
     "name": "stdout",
     "output_type": "stream",
     "text": [
      "Epoch 1/100\n",
      "2991/2991 [==============================] - 45s 15ms/step - loss: 34.9140 - accuracy: 0.7529\n",
      "Epoch 2/100\n"
     ]
    },
    {
     "name": "stderr",
     "output_type": "stream",
     "text": [
      "/home/robin/miniconda3/envs/tf_env/lib/python3.7/site-packages/keras/callbacks/callbacks.py:707: RuntimeWarning: Can save best model only with val_acc available, skipping.\n",
      "  'skipping.' % (self.monitor), RuntimeWarning)\n",
      "/home/robin/miniconda3/envs/tf_env/lib/python3.7/site-packages/keras/callbacks/callbacks.py:846: RuntimeWarning: Early stopping conditioned on metric `val_acc` which is not available. Available metrics are: loss,accuracy\n",
      "  (self.monitor, ','.join(list(logs.keys()))), RuntimeWarning\n"
     ]
    },
    {
     "name": "stdout",
     "output_type": "stream",
     "text": [
      "2991/2991 [==============================] - 9s 3ms/step - loss: 0.6785 - accuracy: 0.7830\n",
      "Epoch 3/100\n",
      "2991/2991 [==============================] - 9s 3ms/step - loss: 0.6672 - accuracy: 0.7830\n",
      "Epoch 4/100\n",
      "2991/2991 [==============================] - 9s 3ms/step - loss: 0.6563 - accuracy: 0.7830\n",
      "Epoch 5/100\n",
      "2991/2991 [==============================] - 9s 3ms/step - loss: 0.6460 - accuracy: 0.7830\n",
      "Epoch 6/100\n",
      "2991/2991 [==============================] - 9s 3ms/step - loss: 0.6363 - accuracy: 0.7830\n",
      "Epoch 7/100\n",
      "2991/2991 [==============================] - 9s 3ms/step - loss: 0.6271 - accuracy: 0.7830\n",
      "Epoch 8/100\n",
      "2991/2991 [==============================] - 9s 3ms/step - loss: 0.6185 - accuracy: 0.7830\n",
      "Epoch 9/100\n",
      "2991/2991 [==============================] - 9s 3ms/step - loss: 0.6104 - accuracy: 0.7830\n",
      "Epoch 10/100\n",
      "2991/2991 [==============================] - 9s 3ms/step - loss: 0.6028 - accuracy: 0.7830\n",
      "Epoch 11/100\n",
      "2991/2991 [==============================] - 9s 3ms/step - loss: 0.5957 - accuracy: 0.7830\n",
      "Epoch 12/100\n",
      "2991/2991 [==============================] - 9s 3ms/step - loss: 0.5890 - accuracy: 0.7830\n",
      "Epoch 13/100\n",
      "2991/2991 [==============================] - 9s 3ms/step - loss: 0.5828 - accuracy: 0.7830\n",
      "Epoch 14/100\n",
      "2991/2991 [==============================] - 9s 3ms/step - loss: 0.5769 - accuracy: 0.7830\n",
      "Epoch 15/100\n",
      "2991/2991 [==============================] - 9s 3ms/step - loss: 0.5714 - accuracy: 0.7830\n",
      "Epoch 16/100\n",
      "2991/2991 [==============================] - 9s 3ms/step - loss: 0.5663 - accuracy: 0.7830\n",
      "Epoch 17/100\n",
      "2991/2991 [==============================] - 9s 3ms/step - loss: 0.5616 - accuracy: 0.7830\n",
      "Epoch 18/100\n",
      "2991/2991 [==============================] - 9s 3ms/step - loss: 0.5571 - accuracy: 0.7830\n",
      "Epoch 19/100\n",
      "2991/2991 [==============================] - 9s 3ms/step - loss: 0.5529 - accuracy: 0.7830: 1s - loss: 0.5529 \n",
      "Epoch 20/100\n",
      "2991/2991 [==============================] - 9s 3ms/step - loss: 0.5490 - accuracy: 0.7830\n",
      "Epoch 21/100\n",
      "2991/2991 [==============================] - 9s 3ms/step - loss: 0.5454 - accuracy: 0.7830\n",
      "Epoch 22/100\n",
      "2991/2991 [==============================] - 9s 3ms/step - loss: 0.5421 - accuracy: 0.7830\n",
      "Epoch 23/100\n",
      "2991/2991 [==============================] - 9s 3ms/step - loss: 0.5389 - accuracy: 0.7830\n",
      "Epoch 24/100\n",
      "2991/2991 [==============================] - 9s 3ms/step - loss: 0.5360 - accuracy: 0.7830\n",
      "Epoch 25/100\n",
      "2991/2991 [==============================] - 9s 3ms/step - loss: 0.5333 - accuracy: 0.7830\n",
      "Epoch 26/100\n",
      "2991/2991 [==============================] - 9s 3ms/step - loss: 0.5308 - accuracy: 0.7830\n",
      "Epoch 27/100\n",
      "2991/2991 [==============================] - 9s 3ms/step - loss: 0.5284 - accuracy: 0.7830\n",
      "Epoch 28/100\n",
      "2991/2991 [==============================] - 12s 4ms/step - loss: 0.5262 - accuracy: 0.7830\n",
      "Epoch 29/100\n",
      "2991/2991 [==============================] - 11s 4ms/step - loss: 0.5242 - accuracy: 0.7830\n",
      "Epoch 30/100\n",
      "2991/2991 [==============================] - 11s 4ms/step - loss: 0.5223 - accuracy: 0.7830\n",
      "Epoch 31/100\n",
      "2991/2991 [==============================] - 11s 4ms/step - loss: 0.5206 - accuracy: 0.7830\n",
      "Epoch 32/100\n",
      "2991/2991 [==============================] - 10s 3ms/step - loss: 0.5190 - accuracy: 0.7830\n",
      "Epoch 33/100\n",
      "2991/2991 [==============================] - 9s 3ms/step - loss: 0.5175 - accuracy: 0.7830\n",
      "Epoch 34/100\n",
      "2991/2991 [==============================] - 9s 3ms/step - loss: 0.5162 - accuracy: 0.7830\n",
      "Epoch 35/100\n",
      "2991/2991 [==============================] - 9s 3ms/step - loss: 0.5149 - accuracy: 0.7830\n",
      "Epoch 36/100\n",
      "2991/2991 [==============================] - 9s 3ms/step - loss: 0.5137 - accuracy: 0.7830\n",
      "Epoch 37/100\n",
      "2991/2991 [==============================] - 9s 3ms/step - loss: 0.5127 - accuracy: 0.7830\n",
      "Epoch 38/100\n",
      "2991/2991 [==============================] - 9s 3ms/step - loss: 0.5117 - accuracy: 0.7830\n",
      "Epoch 39/100\n",
      "2991/2991 [==============================] - 9s 3ms/step - loss: 0.5108 - accuracy: 0.7830\n",
      "Epoch 40/100\n",
      "2991/2991 [==============================] - 9s 3ms/step - loss: 0.5099 - accuracy: 0.7830\n",
      "Epoch 41/100\n",
      "2991/2991 [==============================] - 9s 3ms/step - loss: 0.5092 - accuracy: 0.7830\n",
      "Epoch 42/100\n",
      "2991/2991 [==============================] - 9s 3ms/step - loss: 0.5085 - accuracy: 0.7830\n",
      "Epoch 43/100\n",
      "2991/2991 [==============================] - 9s 3ms/step - loss: 0.5078 - accuracy: 0.7830\n",
      "Epoch 44/100\n",
      "2991/2991 [==============================] - 9s 3ms/step - loss: 0.5072 - accuracy: 0.7830\n",
      "Epoch 45/100\n",
      "2991/2991 [==============================] - 9s 3ms/step - loss: 0.5067 - accuracy: 0.7830\n",
      "Epoch 46/100\n",
      "2991/2991 [==============================] - 9s 3ms/step - loss: 0.5062 - accuracy: 0.7830\n",
      "Epoch 47/100\n",
      "2991/2991 [==============================] - 9s 3ms/step - loss: 0.5058 - accuracy: 0.7830\n",
      "Epoch 48/100\n",
      "2991/2991 [==============================] - 9s 3ms/step - loss: 0.5054 - accuracy: 0.7830\n",
      "Epoch 49/100\n",
      "2991/2991 [==============================] - 9s 3ms/step - loss: 0.5050 - accuracy: 0.7830\n",
      "Epoch 50/100\n",
      "2991/2991 [==============================] - 10s 3ms/step - loss: 0.5047 - accuracy: 0.7830\n",
      "Epoch 51/100\n",
      "2991/2991 [==============================] - 9s 3ms/step - loss: 0.5044 - accuracy: 0.7830\n",
      "Epoch 52/100\n",
      "2991/2991 [==============================] - 9s 3ms/step - loss: 0.5041 - accuracy: 0.7830\n",
      "Epoch 53/100\n",
      "2991/2991 [==============================] - 9s 3ms/step - loss: 0.5038 - accuracy: 0.7830\n",
      "Epoch 54/100\n",
      "2991/2991 [==============================] - 9s 3ms/step - loss: 0.5036 - accuracy: 0.7830\n",
      "Epoch 55/100\n",
      "2991/2991 [==============================] - 9s 3ms/step - loss: 0.5034 - accuracy: 0.7830\n",
      "Epoch 56/100\n",
      "2991/2991 [==============================] - 9s 3ms/step - loss: 0.5032 - accuracy: 0.7830\n",
      "Epoch 57/100\n",
      "2991/2991 [==============================] - 9s 3ms/step - loss: 0.5031 - accuracy: 0.7830\n",
      "Epoch 58/100\n",
      "2991/2991 [==============================] - 9s 3ms/step - loss: 0.5029 - accuracy: 0.7830\n",
      "Epoch 59/100\n",
      "2991/2991 [==============================] - 9s 3ms/step - loss: 0.5028 - accuracy: 0.7830\n",
      "Epoch 60/100\n",
      "2991/2991 [==============================] - 9s 3ms/step - loss: 0.5027 - accuracy: 0.7830\n",
      "Epoch 61/100\n",
      "2991/2991 [==============================] - 9s 3ms/step - loss: 0.5026 - accuracy: 0.7830\n",
      "Epoch 62/100\n",
      "2991/2991 [==============================] - 9s 3ms/step - loss: 0.5025 - accuracy: 0.7830\n",
      "Epoch 63/100\n",
      "2991/2991 [==============================] - 9s 3ms/step - loss: 0.5024 - accuracy: 0.7830\n",
      "Epoch 64/100\n",
      "2991/2991 [==============================] - 9s 3ms/step - loss: 0.5023 - accuracy: 0.7830\n",
      "Epoch 65/100\n",
      "2991/2991 [==============================] - 9s 3ms/step - loss: 0.5022 - accuracy: 0.7830\n",
      "Epoch 66/100\n",
      "2991/2991 [==============================] - 9s 3ms/step - loss: 0.5022 - accuracy: 0.7830\n",
      "Epoch 67/100\n",
      "2991/2991 [==============================] - 9s 3ms/step - loss: 0.5021 - accuracy: 0.7830\n",
      "Epoch 68/100\n",
      "2991/2991 [==============================] - 9s 3ms/step - loss: 0.5021 - accuracy: 0.7830\n",
      "Epoch 69/100\n",
      "2991/2991 [==============================] - 9s 3ms/step - loss: 0.5020 - accuracy: 0.7830\n",
      "Epoch 70/100\n",
      "2991/2991 [==============================] - 9s 3ms/step - loss: 0.5020 - accuracy: 0.7830\n",
      "Epoch 71/100\n",
      "2991/2991 [==============================] - 9s 3ms/step - loss: 0.5020 - accuracy: 0.7830\n",
      "Epoch 72/100\n",
      "2991/2991 [==============================] - 9s 3ms/step - loss: 0.5019 - accuracy: 0.7830\n",
      "Epoch 73/100\n",
      "2991/2991 [==============================] - 9s 3ms/step - loss: 0.5019 - accuracy: 0.7830\n",
      "Epoch 74/100\n",
      "2991/2991 [==============================] - 9s 3ms/step - loss: 0.5019 - accuracy: 0.7830\n",
      "Epoch 75/100\n",
      "2991/2991 [==============================] - 9s 3ms/step - loss: 0.5019 - accuracy: 0.7830\n",
      "Epoch 76/100\n",
      "2991/2991 [==============================] - 9s 3ms/step - loss: 0.5019 - accuracy: 0.7830\n",
      "Epoch 77/100\n",
      "2991/2991 [==============================] - 9s 3ms/step - loss: 0.5018 - accuracy: 0.7830\n",
      "Epoch 78/100\n",
      "2991/2991 [==============================] - 9s 3ms/step - loss: 0.5018 - accuracy: 0.7830\n",
      "Epoch 79/100\n",
      "2991/2991 [==============================] - 9s 3ms/step - loss: 0.5018 - accuracy: 0.7830\n",
      "Epoch 80/100\n",
      "2991/2991 [==============================] - 9s 3ms/step - loss: 0.5018 - accuracy: 0.7830\n",
      "Epoch 81/100\n",
      "2991/2991 [==============================] - 9s 3ms/step - loss: 0.5018 - accuracy: 0.7830\n",
      "Epoch 82/100\n",
      "2991/2991 [==============================] - 9s 3ms/step - loss: 0.5018 - accuracy: 0.7830\n",
      "Epoch 83/100\n",
      "2991/2991 [==============================] - 9s 3ms/step - loss: 0.5018 - accuracy: 0.7830\n",
      "Epoch 84/100\n",
      "2991/2991 [==============================] - 9s 3ms/step - loss: 0.5018 - accuracy: 0.7830\n",
      "Epoch 85/100\n",
      "2991/2991 [==============================] - 9s 3ms/step - loss: 0.5018 - accuracy: 0.7830\n",
      "Epoch 86/100\n",
      "2991/2991 [==============================] - 9s 3ms/step - loss: 0.5018 - accuracy: 0.7830\n",
      "Epoch 87/100\n",
      "2991/2991 [==============================] - 9s 3ms/step - loss: 0.5018 - accuracy: 0.7830\n",
      "Epoch 88/100\n",
      "2991/2991 [==============================] - 9s 3ms/step - loss: 0.5018 - accuracy: 0.7830\n",
      "Epoch 89/100\n",
      "2991/2991 [==============================] - 9s 3ms/step - loss: 0.5018 - accuracy: 0.7830\n",
      "Epoch 90/100\n",
      "2991/2991 [==============================] - 9s 3ms/step - loss: 0.5018 - accuracy: 0.7830\n",
      "Epoch 91/100\n",
      "2991/2991 [==============================] - 9s 3ms/step - loss: 0.5018 - accuracy: 0.7830\n",
      "Epoch 92/100\n",
      "2991/2991 [==============================] - 9s 3ms/step - loss: 0.5018 - accuracy: 0.7830\n",
      "Epoch 93/100\n",
      "2991/2991 [==============================] - 9s 3ms/step - loss: 0.5018 - accuracy: 0.7830\n",
      "Epoch 94/100\n",
      "2991/2991 [==============================] - 9s 3ms/step - loss: 0.5018 - accuracy: 0.7830\n",
      "Epoch 95/100\n",
      "2991/2991 [==============================] - 9s 3ms/step - loss: 0.5018 - accuracy: 0.7830\n",
      "Epoch 96/100\n",
      "2991/2991 [==============================] - 9s 3ms/step - loss: 0.5018 - accuracy: 0.7830\n",
      "Epoch 97/100\n",
      "2991/2991 [==============================] - 9s 3ms/step - loss: 0.5018 - accuracy: 0.7830\n",
      "Epoch 98/100\n",
      "2991/2991 [==============================] - 9s 3ms/step - loss: 0.5018 - accuracy: 0.7830\n",
      "Epoch 99/100\n",
      "2991/2991 [==============================] - 9s 3ms/step - loss: 0.5018 - accuracy: 0.7830\n",
      "Epoch 100/100\n",
      "2991/2991 [==============================] - 9s 3ms/step - loss: 0.5018 - accuracy: 0.7830\n"
     ]
    }
   ],
   "source": [
    "easy_hist = easy_model.fit(train_images, train_labels, epochs=100, batch_size=64, callbacks=[checkpoint,early])"
   ]
  },
  {
   "cell_type": "code",
   "execution_count": 27,
   "metadata": {},
   "outputs": [
    {
     "name": "stdout",
     "output_type": "stream",
     "text": [
      "Correct Label: car\n",
      "\n",
      "car:\t\t 0.39\n",
      "bus:\t\t 0.14\n",
      "aeroplane:\t\t 0.21\n",
      "boat:\t\t 0.17\n",
      "train:\t\t 0.18\n",
      "\n",
      "Network Decision: car\n"
     ]
    },
    {
     "data": {
      "image/png": "[encoded data removed]",
      "text/plain": [
       "<Figure size 432x288 with 1 Axes>"
      ]
     },
     "metadata": {
      "needs_background": "light"
     },
     "output_type": "display_data"
    }
   ],
   "source": [
    "pred(easy_model, 70)"
   ]
  },
  {
   "cell_type": "code",
   "execution_count": 26,
   "metadata": {},
   "outputs": [
    {
     "data": {
      "text/plain": [
       "array([[0.38836756, 0.14109018, 0.21265589, 0.16736463, 0.17743771]],\n",
       "      dtype=float32)"
      ]
     },
     "execution_count": 26,
     "metadata": {},
     "output_type": "execute_result"
    }
   ],
   "source": [
    "easy_model.predict(np.asarray([test_images[100]]))"
   ]
  }
 ],
 "metadata": {
  "kernelspec": {
   "display_name": "Python 3",
   "language": "python",
   "name": "python3"
  },
  "language_info": {
   "codemirror_mode": {
    "name": "ipython",
    "version": 3
   },
   "file_extension": ".py",
   "mimetype": "text/x-python",
   "name": "python",
   "nbconvert_exporter": "python",
   "pygments_lexer": "ipython3",
   "version": "3.7.7"
  }
 },
 "nbformat": 4,
 "nbformat_minor": 4
}
