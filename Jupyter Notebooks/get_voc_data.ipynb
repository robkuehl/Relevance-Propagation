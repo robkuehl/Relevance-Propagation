{
 "cells": [
  {
   "cell_type": "code",
   "execution_count": null,
   "metadata": {},
   "outputs": [],
   "source": [
    "import tensorflow as tf\n",
    "import tensorflow_datasets as tfds\n",
    "\n",
    "def get_voc_with_tf():\n",
    "    # Construct a tf.data.Dataset\n",
    "    ds = tfds.load('voc/2012', split='train', shuffle_files=True)"
   ]
  },
  {
   "cell_type": "code",
   "execution_count": null,
   "metadata": {},
   "outputs": [],
   "source": [
    "ds = get_voc_with_tf()"
   ]
  },
  {
   "cell_type": "code",
   "execution_count": null,
   "metadata": {},
   "outputs": [],
   "source": [
    "import os\n",
    "from pathlib import Path\n",
    "from xml.etree import ElementTree\n",
    "from os.path import join as pathjoin\n",
    "import numpy as np\n",
    "from PIL import Image\n",
    "import gc\n",
    "import pickle\n",
    "\n",
    "\n",
    "def images_to_numpy(voc_path):\n",
    "    # Please provide this path\n",
    "    voc_path = voc_path\n",
    "\n",
    "    store_path = pathjoin(voc_path,'images_as_pickle')\n",
    "    if not os.path.isdir(store_path):\n",
    "        os.mkdir(store_path)\n",
    "\n",
    "    for file in os.listdir(pathjoin(voc_path, 'JPEGImages')):\n",
    "        filename = os.path.splitext(file)[0]\n",
    "        if os.path.isfile(pathjoin(store_path, filename+'.pickle')):\n",
    "            pass\n",
    "        else:\n",
    "            image_path = pathjoin(voc_path, 'JPEGImages', filename+'.jpg')\n",
    "            image = np.asarray(Image.open(image_path))\n",
    "            with open(pathjoin(store_path, filename+'.pickle'), 'wb') as file:\n",
    "                pickle.dump(image, file)\n",
    "            \n",
    "def labels_to_pickle(voc_path):\n",
    "    voc_path = voc_path\n",
    "    if os.path.isfile(pathjoin(voc_path, 'labels.pickle')):\n",
    "        pass\n",
    "    else:\n",
    "        xml_path = pathjoin(voc_path, 'Annotations')\n",
    "        labels = []\n",
    "        for file in os.listdir(pathjoin(voc_path, 'images_as_pickle')):\n",
    "            tree = ElementTree.parse(pathjoin(xml_path, os.path.splitext(file)[0]+'.xml'))\n",
    "            root = tree.getroot()\n",
    "            labels.append(set([obj.find('name').text for obj in root.findall('.//object')]))\n",
    "        with open(pathjoin(voc_path, 'labels.pickle'), 'wb') as f:\n",
    "            pickle.dump(labels, f)"
   ]
  },
  {
   "cell_type": "code",
   "execution_count": null,
   "metadata": {},
   "outputs": [],
   "source": [
    "import pandas as pd\n",
    "from sklearn.preprocessing import MultiLabelBinarizer\n",
    "\n",
    "\n",
    "def get_voc_labels(voc_path):\n",
    "    voc_path = voc_path\n",
    "    labels = []\n",
    "    image_names = []\n",
    "    for file in os.listdir(pathjoin(voc_path, 'images_as_pickle')):\n",
    "        image_names.append(os.path.splitext(file)[0])\n",
    "            \n",
    "    with open(pathjoin(voc_path, 'labels.pickle'), 'rb') as label_file:\n",
    "        labels = pickle.load(label_file)\n",
    "\n",
    "    label_series = pd.Series(labels)\n",
    "\n",
    "    mlb = MultiLabelBinarizer()\n",
    "\n",
    "    label_df = pd.DataFrame(mlb.fit_transform(labels),\n",
    "                       columns=mlb.classes_,\n",
    "                       index=image_names)\n",
    "    \n",
    "    return label_df\n",
    "\n",
    "def get_voc_images(voc_path: Path, image_names):\n",
    "    voc_path = voc_path\n",
    "    images = []\n",
    "    for file in image_names:\n",
    "        image_path = pathjoin(voc_path, 'images_as_pickle', file+'.pickle')\n",
    "        with open(image_path, 'rb') as image_file:\n",
    "            images.append(pickle.load(image_file))\n",
    "            \n",
    "    return images\n",
    "    "
   ]
  },
  {
   "cell_type": "code",
   "execution_count": null,
   "metadata": {},
   "outputs": [],
   "source": [
    "import time\n",
    "\n",
    "voc_path = Path(\"/home/robin/Downloads/VOCdevkit/VOC2012\")\n",
    "\n",
    "time0 = time.time()\n",
    "images_to_numpy(voc_path)\n",
    "labels_to_pickle(voc_path)\n",
    "print(\"Images to pickle: {}\".format(time.time()-time0))"
   ]
  },
  {
   "cell_type": "code",
   "execution_count": null,
   "metadata": {},
   "outputs": [],
   "source": [
    "import time\n",
    "\n",
    "voc_path = Path(\"/home/robin/Downloads/VOCdevkit/VOC2012\")\n",
    "\n",
    "time1 = time.time()\n",
    "label_df = get_voc_labels(voc_path)\n",
    "print(time.time()-time1)"
   ]
  },
  {
   "cell_type": "code",
   "execution_count": null,
   "metadata": {},
   "outputs": [],
   "source": [
    "label_df"
   ]
  },
  {
   "cell_type": "code",
   "execution_count": null,
   "metadata": {},
   "outputs": [],
   "source": [
    "def print_image(images, label_df, number):\n",
    "    image = Image.fromarray(images[number])\n",
    "    import matplotlib.pyplot as plt\n",
    "    plt.imshow(image)\n",
    "    print('Label: {}\\n{}'.format(list(label_df.columns), list(new_label_df.iloc[number])))"
   ]
  },
  {
   "cell_type": "code",
   "execution_count": null,
   "metadata": {},
   "outputs": [],
   "source": [
    "def get_data(voc_path: Path, label_df: pd.DataFrame , classes: list):\n",
    "    new_label_df = label_df[(label_df[classes]!=[0,0,0,0,0]).any(axis=1)][classes]\n",
    "    images = get_voc_images(voc_path, list(new_label_df.index))\n",
    "    \n",
    "    return new_label_df, images"
   ]
  },
  {
   "cell_type": "code",
   "execution_count": null,
   "metadata": {},
   "outputs": [],
   "source": [
    "transport_keys = ['car', 'bus', 'aeroplane', 'boat', 'train']\n",
    "new_label_df, images = get_data(voc_path, label_df, transport_keys)"
   ]
  },
  {
   "cell_type": "code",
   "execution_count": null,
   "metadata": {},
   "outputs": [],
   "source": [
    "new_label_df"
   ]
  },
  {
   "cell_type": "code",
   "execution_count": null,
   "metadata": {},
   "outputs": [],
   "source": [
    "print_image(images, new_label_df, -1)"
   ]
  },
  {
   "cell_type": "code",
   "execution_count": null,
   "metadata": {},
   "outputs": [],
   "source": [
    "images"
   ]
  },
  {
   "cell_type": "code",
   "execution_count": null,
   "metadata": {},
   "outputs": [],
   "source": [
    "from sklearn.model_selection import train_test_split\n",
    "\n",
    "train_images, test_images, train_labels, test_labels = train_test_split(images, new_label_df.values, test_size=0.25, random_state=42)"
   ]
  },
  {
   "cell_type": "code",
   "execution_count": null,
   "metadata": {},
   "outputs": [],
   "source": [
    "i=0\n",
    "print(images[i].shape)\n",
    "print_image(images, new_label_df, i)"
   ]
  },
  {
   "cell_type": "code",
   "execution_count": null,
   "metadata": {},
   "outputs": [],
   "source": [
    "train_images = train_images.reshape((2439, 375, 500, 3))\n",
    "test_images = test_images.reshape((831, 375, 500, 3))"
   ]
  }
 ],
 "metadata": {
  "kernelspec": {
   "display_name": "Python 3",
   "language": "python",
   "name": "python3"
  },
  "language_info": {
   "codemirror_mode": {
    "name": "ipython",
    "version": 3
   },
   "file_extension": ".py",
   "mimetype": "text/x-python",
   "name": "python",
   "nbconvert_exporter": "python",
   "pygments_lexer": "ipython3",
   "version": "3.7.7"
  }
 },
 "nbformat": 4,
 "nbformat_minor": 4
}
