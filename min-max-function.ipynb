{
 "metadata": {
  "language_info": {
   "codemirror_mode": {
    "name": "ipython",
    "version": 3
   },
   "file_extension": ".py",
   "mimetype": "text/x-python",
   "name": "python",
   "nbconvert_exporter": "python",
   "pygments_lexer": "ipython3",
   "version": "3.7.7-final"
  },
  "orig_nbformat": 2,
  "kernelspec": {
   "name": "python3",
   "language": "python",
   "display_name": "Python 3"
  }
 },
 "nbformat": 4,
 "nbformat_minor": 2,
 "cells": [
  {
   "cell_type": "code",
   "execution_count": 1,
   "metadata": {
    "tags": []
   },
   "outputs": [],
   "source": [
    "from src.rel_prop.min_max_rel_model import MinMaxModel, Nested_Regressor\n",
    "from src.models.Binary_Mnist_Model import Montavon_Classifier\n",
    "import numpy as np\n",
    "from src.rel_prop.minmax_utils import get_higher_relevances\n",
    "import matplotlib.pyplot as plt\n",
    "import time"
   ]
  },
  {
   "cell_type": "code",
   "execution_count": 2,
   "metadata": {
    "tags": []
   },
   "outputs": [
    {
     "output_type": "stream",
     "name": "stdout",
     "text": "Train images: 21840, train labels: 21840\nLoad model\nModel: \"sequential\"\n_________________________________________________________________\nLayer (type)                 Output Shape              Param #   \n=================================================================\nflatten (Flatten)            (None, 784)               0         \n_________________________________________________________________\ndense (Dense)                (None, 400)               313600    \n_________________________________________________________________\ndense_1 (Dense)              (None, 100)               40000     \n_________________________________________________________________\ndense_2 (Dense)              (None, 400)               40000     \n_________________________________________________________________\ndense_3 (Dense)              (None, 1)                 400       \n=================================================================\nTotal params: 394,000\nTrainable params: 353,600\nNon-trainable params: 40,400\n_________________________________________________________________\nModel has been load, no need to train!\nDuration to fit Montavon Classifier: 0.0003113746643066406\n"
    }
   ],
   "source": [
    "mc = Montavon_Classifier(class_nb=8, load_model=True)\n",
    "mc.set_data(test_size=0.2)\n",
    "mc.set_model()\n",
    "mc.model.summary()\n",
    "time0=time.time()\n",
    "epochs = 300\n",
    "#epochs = 600\n",
    "mc.fit_model(epochs=300, batch_size=32)\n",
    "time1 = time.time()-time0\n",
    "print(\"Duration to fit Montavon Classifier: {}\".format(time1))"
   ]
  },
  {
   "cell_type": "code",
   "execution_count": 3,
   "metadata": {
    "tags": []
   },
   "outputs": [
    {
     "output_type": "stream",
     "name": "stdout",
     "text": "171/171 [==============================] - 0s 1ms/step - loss: 0.5882 - acc: 0.9555\n"
    },
    {
     "output_type": "execute_result",
     "data": {
      "text/plain": "0.9554945230484009"
     },
     "metadata": {},
     "execution_count": 3
    }
   ],
   "source": [
    "mc.evaluate(batch_size=32)"
   ]
  },
  {
   "cell_type": "code",
   "execution_count": 4,
   "metadata": {},
   "outputs": [],
   "source": [
    "#mc.non_trivial_accuracy()"
   ]
  },
  {
   "cell_type": "code",
   "execution_count": 5,
   "metadata": {
    "tags": []
   },
   "outputs": [],
   "source": [
    "# use to recalc relevances for the training of the min max model. Therefore set recalc_rel to True\n"
   ]
  },
  {
   "cell_type": "code",
   "execution_count": 6,
   "metadata": {
    "tags": []
   },
   "outputs": [
    {
     "output_type": "stream",
     "name": "stdout",
     "text": "Started to collect relevances to train min-max-model!\nLoad relevances to train min-max-model from local directory!\nCreated MinMaxModel\n"
    }
   ],
   "source": [
    "minmax = MinMaxModel(classifier=mc, use_higher_rel=True)\n",
    "\n"
   ]
  },
  {
   "cell_type": "code",
   "execution_count": 7,
   "metadata": {
    "tags": []
   },
   "outputs": [
    {
     "output_type": "stream",
     "name": "stdout",
     "text": "Start Training of Min-Max-Model\nCreated nested regressor for neuron with index 0\nCreated nested regressor for neuron with index 1\nCreated nested regressor for neuron with index 2\nCreated nested regressor for neuron with index 3\nCreated nested regressor for neuron with index 4\nCreated nested regressor for neuron with index 5\nCreated nested regressor for neuron with index 6\nCreated nested regressor for neuron with index 7\nCreated nested regressor for neuron with index 8\nCreated nested regressor for neuron with index 9\nCreated nested regressor for neuron with index 10\nCreated nested regressor for neuron with index 11\nCreated nested regressor for neuron with index 12\nCreated nested regressor for neuron with index 13\nCreated nested regressor for neuron with index 14\nCreated nested regressor for neuron with index 15\nCreated nested regressor for neuron with index 16\nCreated nested regressor for neuron with index 17\nCreated nested regressor for neuron with index 18\nCreated nested regressor for neuron with index 19\nCreated nested regressor for neuron with index 20\nCreated nested regressor for neuron with index 21\nCreated nested regressor for neuron with index 22\nCreated nested regressor for neuron with index 23\nCreated nested regressor for neuron with index 24\nCreated nested regressor for neuron with index 25\nCreated nested regressor for neuron with index 26\nCreated nested regressor for neuron with index 27\nCreated nested regressor for neuron with index 28\nCreated nested regressor for neuron with index 29\nCreated nested regressor for neuron with index 30\nCreated nested regressor for neuron with index 31\nCreated nested regressor for neuron with index 32\nCreated nested regressor for neuron with index 33\nCreated nested regressor for neuron with index 34\nCreated nested regressor for neuron with index 35\nCreated nested regressor for neuron with index 36\nCreated nested regressor for neuron with index 37\nCreated nested regressor for neuron with index 38\nCreated nested regressor for neuron with index 39\nCreated nested regressor for neuron with index 40\nCreated nested regressor for neuron with index 41\nCreated nested regressor for neuron with index 42\nCreated nested regressor for neuron with index 43\nCreated nested regressor for neuron with index 44\nCreated nested regressor for neuron with index 45\nCreated nested regressor for neuron with index 46\nCreated nested regressor for neuron with index 47\nCreated nested regressor for neuron with index 48\nCreated nested regressor for neuron with index 49\nCreated nested regressor for neuron with index 50\nCreated nested regressor for neuron with index 51\nCreated nested regressor for neuron with index 52\nCreated nested regressor for neuron with index 53\nCreated nested regressor for neuron with index 54\nCreated nested regressor for neuron with index 55\nCreated nested regressor for neuron with index 56\nCreated nested regressor for neuron with index 57\nCreated nested regressor for neuron with index 58\nCreated nested regressor for neuron with index 59\nCreated nested regressor for neuron with index 60\nCreated nested regressor for neuron with index 61\nCreated nested regressor for neuron with index 62\nCreated nested regressor for neuron with index 63\nCreated nested regressor for neuron with index 64\nCreated nested regressor for neuron with index 65\nCreated nested regressor for neuron with index 66\nCreated nested regressor for neuron with index 67\nCreated nested regressor for neuron with index 68\nCreated nested regressor for neuron with index 69\nCreated nested regressor for neuron with index 70\nCreated nested regressor for neuron with index 71\nCreated nested regressor for neuron with index 72\nCreated nested regressor for neuron with index 73\nCreated nested regressor for neuron with index 74\nCreated nested regressor for neuron with index 75\nCreated nested regressor for neuron with index 76\nCreated nested regressor for neuron with index 77\nCreated nested regressor for neuron with index 78\nCreated nested regressor for neuron with index 79\nCreated nested regressor for neuron with index 80\nCreated nested regressor for neuron with index 81\nCreated nested regressor for neuron with index 82\nCreated nested regressor for neuron with index 83\nCreated nested regressor for neuron with index 84\nCreated nested regressor for neuron with index 85\nCreated nested regressor for neuron with index 86\nCreated nested regressor for neuron with index 87\nCreated nested regressor for neuron with index 88\nCreated nested regressor for neuron with index 89\nCreated nested regressor for neuron with index 90\nCreated nested regressor for neuron with index 91\nCreated nested regressor for neuron with index 92\nCreated nested regressor for neuron with index 93\nCreated nested regressor for neuron with index 94\nCreated nested regressor for neuron with index 95\nCreated nested regressor for neuron with index 96\nCreated nested regressor for neuron with index 97\nCreated nested regressor for neuron with index 98\nCreated nested regressor for neuron with index 99\nFit model of nested regressor with neuron index 0\nFit model of nested regressor with neuron index 1\nFit model of nested regressor with neuron index 2\n"
    }
   ],
   "source": [
    "nr_train_images = minmax.nr_train_images\n",
    "true_relevances = minmax.true_relevances\n",
    "higher_relevances = minmax.higher_relevances\n",
    "\n",
    "time2 = time.time()\n",
    "minmax.train_min_max(pretrained=False)\n",
    "time3 = time.time()-time2\n",
    "print(\"Duration to train Min-Max-Model: {}\".format(3))"
   ]
  },
  {
   "cell_type": "code",
   "execution_count": 5,
   "metadata": {},
   "outputs": [],
   "source": []
  },
  {
   "cell_type": "code",
   "execution_count": 8,
   "outputs": [
    {
     "output_type": "error",
     "ename": "NameError",
     "evalue": "name 'minmax' is not defined",
     "traceback": [
      "\u001B[0;31m---------------------------------------------------------------------------\u001B[0m",
      "\u001B[0;31mNameError\u001B[0m                                 Traceback (most recent call last)",
      "\u001B[0;32m<ipython-input-8-d0e016232c28>\u001B[0m in \u001B[0;36m<module>\u001B[0;34m\u001B[0m\n\u001B[1;32m      3\u001B[0m \u001B[0;34m\u001B[0m\u001B[0m\n\u001B[1;32m      4\u001B[0m \u001B[0;32mwhile\u001B[0m \u001B[0;32mTrue\u001B[0m\u001B[0;34m:\u001B[0m\u001B[0;34m\u001B[0m\u001B[0;34m\u001B[0m\u001B[0m\n\u001B[0;32m----> 5\u001B[0;31m     \u001B[0midx\u001B[0m \u001B[0;34m=\u001B[0m \u001B[0mrandom\u001B[0m\u001B[0;34m.\u001B[0m\u001B[0mrandint\u001B[0m\u001B[0;34m(\u001B[0m\u001B[0;36m0\u001B[0m\u001B[0;34m,\u001B[0m \u001B[0mminmax\u001B[0m\u001B[0;34m.\u001B[0m\u001B[0mclassifier\u001B[0m\u001B[0;34m.\u001B[0m\u001B[0mtest_images\u001B[0m\u001B[0;34m.\u001B[0m\u001B[0mshape\u001B[0m\u001B[0;34m[\u001B[0m\u001B[0;36m0\u001B[0m\u001B[0;34m]\u001B[0m\u001B[0;34m)\u001B[0m\u001B[0;34m\u001B[0m\u001B[0;34m\u001B[0m\u001B[0m\n\u001B[0m\u001B[1;32m      6\u001B[0m     \u001B[0;32mif\u001B[0m \u001B[0mmc\u001B[0m\u001B[0;34m.\u001B[0m\u001B[0mpredict_test_image\u001B[0m\u001B[0;34m(\u001B[0m\u001B[0midx\u001B[0m\u001B[0;34m)\u001B[0m \u001B[0;34m==\u001B[0m \u001B[0;36m1\u001B[0m \u001B[0;32mand\u001B[0m \u001B[0mmc\u001B[0m\u001B[0;34m.\u001B[0m\u001B[0mtest_labels\u001B[0m\u001B[0;34m[\u001B[0m\u001B[0midx\u001B[0m\u001B[0;34m]\u001B[0m \u001B[0;34m==\u001B[0m\u001B[0;36m1\u001B[0m\u001B[0;34m:\u001B[0m\u001B[0;34m\u001B[0m\u001B[0;34m\u001B[0m\u001B[0m\n\u001B[1;32m      7\u001B[0m         \u001B[0;32mbreak\u001B[0m\u001B[0;34m\u001B[0m\u001B[0;34m\u001B[0m\u001B[0m\n",
      "\u001B[0;31mNameError\u001B[0m: name 'minmax' is not defined"
     ]
    }
   ],
   "source": [
    "from src.plotting.plot_funcs import plotly_mnist_image\n",
    "import random \n",
    "\n",
    "while True:\n",
    "    idx = random.randint(0, minmax.classifier.test_images.shape[0])\n",
    "    if mc.predict_test_image(idx) == 1 and mc.test_labels[idx] ==1:\n",
    "        break\n",
    "plotly_mnist_image(minmax.classifier.test_images[idx])\n",
    "final_relevance, zplus_relevance = minmax.min_max_rel_prop(idx)"
   ],
   "metadata": {
    "collapsed": false,
    "pycharm": {
     "name": "#%%\n"
    },
    "tags": []
   }
  },
  {
   "cell_type": "code",
   "execution_count": null,
   "outputs": [],
   "source": [
    "final_relevance_ = final_relevance\n",
    "plotly_mnist_image(final_relevance_)\n"
   ],
   "metadata": {
    "collapsed": false,
    "pycharm": {
     "name": "#%%\n"
    }
   }
  },
  {
   "cell_type": "code",
   "execution_count": null,
   "outputs": [],
   "source": [
    "import numpy as np \n",
    "# Run Min-Max Model without higher relevances \n",
    "minmax_nobias = MinMaxModel(classifier=mc, use_higher_rel=False)"
   ],
   "metadata": {
    "collapsed": false,
    "pycharm": {
     "name": "#%%\n"
    }
   }
  },
  {
   "cell_type": "code",
   "execution_count": null,
   "outputs": [],
   "source": [
    "minmax_nobias.train_min_max(pretrained=True)"
   ],
   "metadata": {
    "collapsed": false,
    "pycharm": {
     "name": "#%%\n"
    }
   }
  },
  {
   "cell_type": "code",
   "execution_count": null,
   "outputs": [],
   "source": [
    "while True:\n",
    "    idx = random.randint(0, minmax_nobias.classifier.test_images.shape[0])\n",
    "    if mc.predict_test_image(idx) == 1 and mc.test_labels[idx] ==1:\n",
    "        break\n",
    "plotly_mnist_image(minmax_nobias.classifier.test_images[idx])\n",
    "final_relevance, zplus_relevance = minmax_nobias.min_max_rel_prop(idx)"
   ],
   "metadata": {
    "collapsed": false,
    "pycharm": {
     "name": "#%%\n"
    }
   }
  },
  {
   "cell_type": "code",
   "execution_count": null,
   "outputs": [],
   "source": [
    "final_relevance_ = final_relevance\n",
    "plotly_mnist_image(final_relevance_)"
   ],
   "metadata": {
    "collapsed": false,
    "pycharm": {
     "name": "#%%\n"
    }
   }
  },
  {
   "cell_type": "code",
   "execution_count": null,
   "outputs": [],
   "source": [
    "final_relevance_ = final_relevance\n",
    "plotly_mnist_image(final_relevance_)"
   ],
   "metadata": {
    "collapsed": false,
    "pycharm": {
     "name": "#%%\n"
    }
   }
  },
  {
   "cell_type": "code",
   "execution_count": null,
   "outputs": [],
   "source": [
    "import numpy as np \n",
    "# Run Min-Max Model without higher relevances \n",
    "minmax_nobias = MinMaxModel(classifier=mc, use_higher_rel=False)"
   ],
   "metadata": {
    "collapsed": false,
    "pycharm": {
     "name": "#%%\n"
    }
   }
  },
  {
   "cell_type": "code",
   "execution_count": null,
   "outputs": [],
   "source": [
    "minmax_nobias.train_min_max(pretrained=True)"
   ],
   "metadata": {
    "collapsed": false,
    "pycharm": {
     "name": "#%%\n"
    }
   }
  },
  {
   "cell_type": "code",
   "execution_count": null,
   "outputs": [],
   "source": [
    "while True:\n",
    "    idx = random.randint(0, minmax_nobias.classifier.test_images.shape[0])\n",
    "    if mc.predict_test_image(idx) == 1 and mc.test_labels[idx] ==1:\n",
    "        break\n",
    "plotly_mnist_image(minmax_nobias.classifier.test_images[idx])\n",
    "final_relevance, zplus_relevance = minmax_nobias.min_max_rel_prop(idx)"
   ],
   "metadata": {
    "collapsed": false,
    "pycharm": {
     "name": "#%%\n"
    }
   }
  },
  {
   "cell_type": "code",
   "execution_count": null,
   "outputs": [],
   "source": [
    "final_relevance_ = final_relevance\n",
    "plotly_mnist_image(final_relevance_)"
   ],
   "metadata": {
    "collapsed": false,
    "pycharm": {
     "name": "#%%\n"
    }
   }
  },
  {
   "cell_type": "code",
   "execution_count": 9,
   "outputs": [
    {
     "output_type": "error",
     "ename": "NameError",
     "evalue": "name 'final_relevance' is not defined",
     "traceback": [
      "\u001B[0;31m---------------------------------------------------------------------------\u001B[0m",
      "\u001B[0;31mNameError\u001B[0m                                 Traceback (most recent call last)",
      "\u001B[0;32m<ipython-input-9-10af4b65c5a5>\u001B[0m in \u001B[0;36m<module>\u001B[0;34m\u001B[0m\n\u001B[0;32m----> 1\u001B[0;31m \u001B[0mfinal_relevance_\u001B[0m \u001B[0;34m=\u001B[0m \u001B[0mfinal_relevance\u001B[0m\u001B[0;34m\u001B[0m\u001B[0;34m\u001B[0m\u001B[0m\n\u001B[0m\u001B[1;32m      2\u001B[0m \u001B[0mplotly_mnist_image\u001B[0m\u001B[0;34m(\u001B[0m\u001B[0mfinal_relevance_\u001B[0m\u001B[0;34m)\u001B[0m\u001B[0;34m\u001B[0m\u001B[0;34m\u001B[0m\u001B[0m\n",
      "\u001B[0;31mNameError\u001B[0m: name 'final_relevance' is not defined"
     ]
    }
   ],
   "source": [
    "final_relevance_ = final_relevance\n",
    "plotly_mnist_image(final_relevance_)"
   ],
   "metadata": {
    "collapsed": false,
    "pycharm": {
     "name": "#%%\n"
    }
   }
  },
  {
   "cell_type": "code",
   "execution_count": 10,
   "outputs": [
    {
     "output_type": "stream",
     "name": "stdout",
     "text": "Started to collect relevances to train min-max-model!\nLoad relevances to train min-max-model from local directory!\n"
    },
    {
     "output_type": "error",
     "ename": "TypeError",
     "evalue": "cannot unpack non-iterable NoneType object",
     "traceback": [
      "\u001B[0;31m---------------------------------------------------------------------------\u001B[0m",
      "\u001B[0;31mTypeError\u001B[0m                                 Traceback (most recent call last)",
      "\u001B[0;32m<ipython-input-10-a121a11b4b39>\u001B[0m in \u001B[0;36m<module>\u001B[0;34m\u001B[0m\n\u001B[1;32m      1\u001B[0m \u001B[0;32mimport\u001B[0m \u001B[0mnumpy\u001B[0m \u001B[0;32mas\u001B[0m \u001B[0mnp\u001B[0m\u001B[0;34m\u001B[0m\u001B[0;34m\u001B[0m\u001B[0m\n\u001B[1;32m      2\u001B[0m \u001B[0;31m# Run Min-Max Model without higher relevances\u001B[0m\u001B[0;34m\u001B[0m\u001B[0;34m\u001B[0m\u001B[0;34m\u001B[0m\u001B[0m\n\u001B[0;32m----> 3\u001B[0;31m \u001B[0mminmax_nobias\u001B[0m \u001B[0;34m=\u001B[0m \u001B[0mMinMaxModel\u001B[0m\u001B[0;34m(\u001B[0m\u001B[0mclassifier\u001B[0m\u001B[0;34m=\u001B[0m\u001B[0mmc\u001B[0m\u001B[0;34m,\u001B[0m \u001B[0muse_higher_rel\u001B[0m\u001B[0;34m=\u001B[0m\u001B[0;32mFalse\u001B[0m\u001B[0;34m)\u001B[0m\u001B[0;34m\u001B[0m\u001B[0;34m\u001B[0m\u001B[0m\n\u001B[0m",
      "\u001B[0;32m~/Documents/Programmierprojekte/Relevance-Propagation/src/rel_prop/min_max_rel_model.py\u001B[0m in \u001B[0;36m__init__\u001B[0;34m(self, classifier, use_higher_rel)\u001B[0m\n\u001B[1;32m    140\u001B[0m         \u001B[0mself\u001B[0m\u001B[0;34m.\u001B[0m\u001B[0mnested_regressors\u001B[0m \u001B[0;34m=\u001B[0m \u001B[0;34m[\u001B[0m\u001B[0;34m]\u001B[0m\u001B[0;34m\u001B[0m\u001B[0;34m\u001B[0m\u001B[0m\n\u001B[1;32m    141\u001B[0m         \u001B[0mself\u001B[0m\u001B[0;34m.\u001B[0m\u001B[0mtrain_images\u001B[0m \u001B[0;34m=\u001B[0m \u001B[0mclassifier\u001B[0m\u001B[0;34m.\u001B[0m\u001B[0mtrain_images\u001B[0m\u001B[0;34m\u001B[0m\u001B[0;34m\u001B[0m\u001B[0m\n\u001B[0;32m--> 142\u001B[0;31m         \u001B[0mself\u001B[0m\u001B[0;34m.\u001B[0m\u001B[0mtrue_relevances\u001B[0m\u001B[0;34m,\u001B[0m \u001B[0mself\u001B[0m\u001B[0;34m.\u001B[0m\u001B[0mhigher_relevances\u001B[0m\u001B[0;34m,\u001B[0m \u001B[0mself\u001B[0m\u001B[0;34m.\u001B[0m\u001B[0mnr_train_images\u001B[0m \u001B[0;34m=\u001B[0m \u001B[0mget_higher_relevances\u001B[0m\u001B[0;34m(\u001B[0m\u001B[0mclassifier\u001B[0m\u001B[0;34m,\u001B[0m \u001B[0mrecalc_rel\u001B[0m\u001B[0;34m=\u001B[0m\u001B[0;32mFalse\u001B[0m\u001B[0;34m)\u001B[0m\u001B[0;34m\u001B[0m\u001B[0;34m\u001B[0m\u001B[0m\n\u001B[0m\u001B[1;32m    143\u001B[0m         \u001B[0;32mif\u001B[0m \u001B[0muse_higher_rel\u001B[0m \u001B[0;34m==\u001B[0m \u001B[0;32mFalse\u001B[0m\u001B[0;34m:\u001B[0m\u001B[0;34m\u001B[0m\u001B[0;34m\u001B[0m\u001B[0m\n\u001B[1;32m    144\u001B[0m             \u001B[0mself\u001B[0m\u001B[0;34m.\u001B[0m\u001B[0mhigher_relevances\u001B[0m \u001B[0;34m=\u001B[0m \u001B[0mnp\u001B[0m\u001B[0;34m.\u001B[0m\u001B[0mzeros\u001B[0m\u001B[0;34m(\u001B[0m\u001B[0mshape\u001B[0m\u001B[0;34m=\u001B[0m\u001B[0mself\u001B[0m\u001B[0;34m.\u001B[0m\u001B[0mhigher_relevances\u001B[0m\u001B[0;34m)\u001B[0m\u001B[0;34m\u001B[0m\u001B[0;34m\u001B[0m\u001B[0m\n",
      "\u001B[0;31mTypeError\u001B[0m: cannot unpack non-iterable NoneType object"
     ]
    }
   ],
   "source": [
    "import numpy as np \n",
    "# Run Min-Max Model without higher relevances \n",
    "minmax_nobias = MinMaxModel(classifier=mc, use_higher_rel=False)"
   ],
   "metadata": {
    "collapsed": false,
    "pycharm": {
     "name": "#%%\n"
    },
    "tags": []
   }
  },
  {
   "cell_type": "code",
   "execution_count": 11,
   "metadata": {},
   "outputs": [
    {
     "output_type": "error",
     "ename": "NameError",
     "evalue": "name 'minmax_nobias' is not defined",
     "traceback": [
      "\u001B[0;31m---------------------------------------------------------------------------\u001B[0m",
      "\u001B[0;31mNameError\u001B[0m                                 Traceback (most recent call last)",
      "\u001B[0;32m<ipython-input-11-87fd07c5c1d5>\u001B[0m in \u001B[0;36m<module>\u001B[0;34m\u001B[0m\n\u001B[0;32m----> 1\u001B[0;31m \u001B[0mminmax_nobias\u001B[0m\u001B[0;34m.\u001B[0m\u001B[0mtrain_min_max\u001B[0m\u001B[0;34m(\u001B[0m\u001B[0mpretrained\u001B[0m\u001B[0;34m=\u001B[0m\u001B[0;32mTrue\u001B[0m\u001B[0;34m)\u001B[0m\u001B[0;34m\u001B[0m\u001B[0;34m\u001B[0m\u001B[0m\n\u001B[0m",
      "\u001B[0;31mNameError\u001B[0m: name 'minmax_nobias' is not defined"
     ]
    }
   ],
   "source": [
    "minmax_nobias.train_min_max(pretrained=True)"
   ]
  },
  {
   "cell_type": "code",
   "execution_count": 12,
   "metadata": {},
   "outputs": [
    {
     "output_type": "error",
     "ename": "NameError",
     "evalue": "name 'minmax_nobias' is not defined",
     "traceback": [
      "\u001B[0;31m---------------------------------------------------------------------------\u001B[0m",
      "\u001B[0;31mNameError\u001B[0m                                 Traceback (most recent call last)",
      "\u001B[0;32m<ipython-input-12-b8c2d68b50f1>\u001B[0m in \u001B[0;36m<module>\u001B[0;34m\u001B[0m\n\u001B[1;32m      1\u001B[0m \u001B[0;32mwhile\u001B[0m \u001B[0;32mTrue\u001B[0m\u001B[0;34m:\u001B[0m\u001B[0;34m\u001B[0m\u001B[0;34m\u001B[0m\u001B[0m\n\u001B[0;32m----> 2\u001B[0;31m     \u001B[0midx\u001B[0m \u001B[0;34m=\u001B[0m \u001B[0mrandom\u001B[0m\u001B[0;34m.\u001B[0m\u001B[0mrandint\u001B[0m\u001B[0;34m(\u001B[0m\u001B[0;36m0\u001B[0m\u001B[0;34m,\u001B[0m \u001B[0mminmax_nobias\u001B[0m\u001B[0;34m.\u001B[0m\u001B[0mclassifier\u001B[0m\u001B[0;34m.\u001B[0m\u001B[0mtest_images\u001B[0m\u001B[0;34m.\u001B[0m\u001B[0mshape\u001B[0m\u001B[0;34m[\u001B[0m\u001B[0;36m0\u001B[0m\u001B[0;34m]\u001B[0m\u001B[0;34m)\u001B[0m\u001B[0;34m\u001B[0m\u001B[0;34m\u001B[0m\u001B[0m\n\u001B[0m\u001B[1;32m      3\u001B[0m     \u001B[0;32mif\u001B[0m \u001B[0mmc\u001B[0m\u001B[0;34m.\u001B[0m\u001B[0mpredict_test_image\u001B[0m\u001B[0;34m(\u001B[0m\u001B[0midx\u001B[0m\u001B[0;34m)\u001B[0m \u001B[0;34m==\u001B[0m \u001B[0;36m1\u001B[0m \u001B[0;32mand\u001B[0m \u001B[0mmc\u001B[0m\u001B[0;34m.\u001B[0m\u001B[0mtest_labels\u001B[0m\u001B[0;34m[\u001B[0m\u001B[0midx\u001B[0m\u001B[0;34m]\u001B[0m \u001B[0;34m==\u001B[0m\u001B[0;36m1\u001B[0m\u001B[0;34m:\u001B[0m\u001B[0;34m\u001B[0m\u001B[0;34m\u001B[0m\u001B[0m\n\u001B[1;32m      4\u001B[0m         \u001B[0;32mbreak\u001B[0m\u001B[0;34m\u001B[0m\u001B[0;34m\u001B[0m\u001B[0m\n\u001B[1;32m      5\u001B[0m \u001B[0mplotly_mnist_image\u001B[0m\u001B[0;34m(\u001B[0m\u001B[0mminmax_nobias\u001B[0m\u001B[0;34m.\u001B[0m\u001B[0mclassifier\u001B[0m\u001B[0;34m.\u001B[0m\u001B[0mtest_images\u001B[0m\u001B[0;34m[\u001B[0m\u001B[0midx\u001B[0m\u001B[0;34m]\u001B[0m\u001B[0;34m)\u001B[0m\u001B[0;34m\u001B[0m\u001B[0;34m\u001B[0m\u001B[0m\n",
      "\u001B[0;31mNameError\u001B[0m: name 'minmax_nobias' is not defined"
     ]
    }
   ],
   "source": [
    "while True:\n",
    "    idx = random.randint(0, minmax_nobias.classifier.test_images.shape[0])\n",
    "    if mc.predict_test_image(idx) == 1 and mc.test_labels[idx] ==1:\n",
    "        break\n",
    "plotly_mnist_image(minmax_nobias.classifier.test_images[idx])\n",
    "final_relevance, zplus_relevance = minmax_nobias.min_max_rel_prop(idx)"
   ]
  },
  {
   "cell_type": "code",
   "execution_count": 13,
   "metadata": {},
   "outputs": [
    {
     "output_type": "error",
     "ename": "NameError",
     "evalue": "name 'final_relevance' is not defined",
     "traceback": [
      "\u001B[0;31m---------------------------------------------------------------------------\u001B[0m",
      "\u001B[0;31mNameError\u001B[0m                                 Traceback (most recent call last)",
      "\u001B[0;32m<ipython-input-13-10af4b65c5a5>\u001B[0m in \u001B[0;36m<module>\u001B[0;34m\u001B[0m\n\u001B[0;32m----> 1\u001B[0;31m \u001B[0mfinal_relevance_\u001B[0m \u001B[0;34m=\u001B[0m \u001B[0mfinal_relevance\u001B[0m\u001B[0;34m\u001B[0m\u001B[0;34m\u001B[0m\u001B[0m\n\u001B[0m\u001B[1;32m      2\u001B[0m \u001B[0mplotly_mnist_image\u001B[0m\u001B[0;34m(\u001B[0m\u001B[0mfinal_relevance_\u001B[0m\u001B[0;34m)\u001B[0m\u001B[0;34m\u001B[0m\u001B[0;34m\u001B[0m\u001B[0m\n",
      "\u001B[0;31mNameError\u001B[0m: name 'final_relevance' is not defined"
     ]
    }
   ],
   "source": [
    "final_relevance_ = final_relevance\n",
    "plotly_mnist_image(final_relevance_)"
   ]
  }
 ]
}