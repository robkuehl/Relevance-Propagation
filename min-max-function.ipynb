{
 "metadata": {
  "language_info": {
   "codemirror_mode": {
    "name": "ipython",
    "version": 3
   },
   "file_extension": ".py",
   "mimetype": "text/x-python",
   "name": "python",
   "nbconvert_exporter": "python",
   "pygments_lexer": "ipython3",
   "version": "3.7.7-final"
  },
  "orig_nbformat": 2,
  "kernelspec": {
   "name": "python3",
   "language": "python",
   "display_name": "Python 3"
  }
 },
 "nbformat": 4,
 "nbformat_minor": 2,
 "cells": [
  {
   "cell_type": "code",
   "execution_count": 1,
   "metadata": {
    "tags": []
   },
   "outputs": [],
   "source": [
    "from src.rel_prop.min_max_rel_model import MinMaxModel, Nested_Regressor\n",
    "from src.models.Binary_Mnist_Model import Montavon_Classifier\n",
    "import numpy as np\n",
    "from src.rel_prop.minmax_utils import get_higher_relevances\n",
    "import matplotlib.pyplot as plt"
   ]
  },
  {
   "cell_type": "code",
   "execution_count": 2,
   "metadata": {
    "tags": []
   },
   "outputs": [
    {
     "name": "stdout",
     "output_type": "stream",
     "text": [
      "Train images: 21840, train labels: 21840\n",
      "Load model\n",
      "Model: \"sequential\"\n",
      "_________________________________________________________________\n",
      "Layer (type)                 Output Shape              Param #   \n",
      "=================================================================\n",
      "flatten (Flatten)            (None, 784)               0         \n",
      "_________________________________________________________________\n",
      "dense (Dense)                (None, 400)               313600    \n",
      "_________________________________________________________________\n",
      "dense_1 (Dense)              (None, 100)               40000     \n",
      "_________________________________________________________________\n",
      "dense_2 (Dense)              (None, 400)               40000     \n",
      "_________________________________________________________________\n",
      "dense_3 (Dense)              (None, 1)                 400       \n",
      "=================================================================\n",
      "Total params: 394,000\n",
      "Trainable params: 353,600\n",
      "Non-trainable params: 40,400\n",
      "_________________________________________________________________\n",
      "Model has been load, no need to train!\n"
     ]
    }
   ],
   "source": [
    "mc = Montavon_Classifier(class_nb=8, load_model=True)\n",
    "mc.set_data(test_size=0.2)\n",
    "mc.set_model()\n",
    "mc.model.summary()\n",
    "mc.fit_model(epochs=100, batch_size=32)\n"
   ]
  },
  {
   "cell_type": "code",
   "execution_count": 3,
   "metadata": {
    "tags": []
   },
   "outputs": [],
   "source": [
    "# use to recalc relevances for the training of the min max model. Therefore set recalc_rel to True\n"
   ]
  },
  {
   "cell_type": "code",
   "execution_count": 4,
   "metadata": {
    "tags": []
   },
   "outputs": [
    {
     "name": "stdout",
     "output_type": "stream",
     "text": [
      "Started to collect relevances to train min-max-model!\n",
      "Info: You decided to use higher relevances for training.\n",
      "Load relevances to train min-max-model from local directory!\n",
      "Created MinMaxModel\n"
     ]
    }
   ],
   "source": [
    "minmax = MinMaxModel(classifier=mc, use_higher_rel=True)\n",
    "\n"
   ]
  },
  {
   "cell_type": "code",
   "execution_count": 5,
   "metadata": {},
   "outputs": [
    {
     "name": "stdout",
     "output_type": "stream",
     "text": [
      "Start Training of Min-Max-Model\n",
      "Created nested regressor for neuron with index 0\n",
      "Created nested regressor for neuron with index 1\n",
      "Created nested regressor for neuron with index 2\n",
      "Created nested regressor for neuron with index 3\n",
      "Created nested regressor for neuron with index 4\n",
      "Created nested regressor for neuron with index 5\n",
      "Created nested regressor for neuron with index 6\n",
      "Created nested regressor for neuron with index 7\n",
      "Created nested regressor for neuron with index 8\n",
      "Created nested regressor for neuron with index 9\n",
      "Created nested regressor for neuron with index 10\n",
      "Created nested regressor for neuron with index 11\n",
      "Created nested regressor for neuron with index 12\n",
      "Created nested regressor for neuron with index 13\n",
      "Created nested regressor for neuron with index 14\n",
      "Created nested regressor for neuron with index 15\n",
      "Created nested regressor for neuron with index 16\n",
      "Created nested regressor for neuron with index 17\n",
      "Created nested regressor for neuron with index 18\n",
      "Created nested regressor for neuron with index 19\n",
      "Created nested regressor for neuron with index 20\n",
      "Created nested regressor for neuron with index 21\n",
      "Created nested regressor for neuron with index 22\n",
      "Created nested regressor for neuron with index 23\n",
      "Created nested regressor for neuron with index 24\n",
      "Created nested regressor for neuron with index 25\n",
      "Created nested regressor for neuron with index 26\n",
      "Created nested regressor for neuron with index 27\n",
      "Created nested regressor for neuron with index 28\n",
      "Created nested regressor for neuron with index 29\n",
      "Created nested regressor for neuron with index 30\n",
      "Created nested regressor for neuron with index 31\n",
      "Created nested regressor for neuron with index 32\n",
      "Created nested regressor for neuron with index 33\n",
      "Created nested regressor for neuron with index 34\n",
      "Created nested regressor for neuron with index 35\n",
      "Created nested regressor for neuron with index 36\n",
      "Created nested regressor for neuron with index 37\n",
      "Created nested regressor for neuron with index 38\n",
      "Created nested regressor for neuron with index 39\n",
      "Created nested regressor for neuron with index 40\n",
      "Created nested regressor for neuron with index 41\n",
      "Created nested regressor for neuron with index 42\n",
      "Created nested regressor for neuron with index 43\n",
      "Created nested regressor for neuron with index 44\n",
      "Created nested regressor for neuron with index 45\n",
      "Created nested regressor for neuron with index 46\n",
      "Created nested regressor for neuron with index 47\n",
      "Created nested regressor for neuron with index 48\n",
      "Created nested regressor for neuron with index 49\n",
      "Created nested regressor for neuron with index 50\n",
      "Created nested regressor for neuron with index 51\n",
      "Created nested regressor for neuron with index 52\n",
      "Created nested regressor for neuron with index 53\n",
      "Created nested regressor for neuron with index 54\n",
      "Created nested regressor for neuron with index 55\n",
      "Created nested regressor for neuron with index 56\n",
      "Created nested regressor for neuron with index 57\n",
      "Created nested regressor for neuron with index 58\n",
      "Created nested regressor for neuron with index 59\n",
      "Created nested regressor for neuron with index 60\n",
      "Created nested regressor for neuron with index 61\n",
      "Created nested regressor for neuron with index 62\n",
      "Created nested regressor for neuron with index 63\n",
      "Created nested regressor for neuron with index 64\n",
      "Created nested regressor for neuron with index 65\n",
      "Created nested regressor for neuron with index 66\n",
      "Created nested regressor for neuron with index 67\n",
      "Created nested regressor for neuron with index 68\n",
      "Created nested regressor for neuron with index 69\n",
      "Created nested regressor for neuron with index 70\n",
      "Created nested regressor for neuron with index 71\n",
      "Created nested regressor for neuron with index 72\n",
      "Created nested regressor for neuron with index 73\n",
      "Created nested regressor for neuron with index 74\n",
      "Created nested regressor for neuron with index 75\n",
      "Created nested regressor for neuron with index 76\n",
      "Created nested regressor for neuron with index 77\n",
      "Created nested regressor for neuron with index 78\n",
      "Created nested regressor for neuron with index 79\n",
      "Created nested regressor for neuron with index 80\n",
      "Created nested regressor for neuron with index 81\n",
      "Created nested regressor for neuron with index 82\n",
      "Created nested regressor for neuron with index 83\n",
      "Created nested regressor for neuron with index 84\n",
      "Created nested regressor for neuron with index 85\n",
      "Created nested regressor for neuron with index 86\n",
      "Created nested regressor for neuron with index 87\n",
      "Created nested regressor for neuron with index 88\n",
      "Created nested regressor for neuron with index 89\n",
      "Created nested regressor for neuron with index 90\n",
      "Created nested regressor for neuron with index 91\n",
      "Created nested regressor for neuron with index 92\n",
      "Created nested regressor for neuron with index 93\n",
      "Created nested regressor for neuron with index 94\n",
      "Created nested regressor for neuron with index 95\n",
      "Created nested regressor for neuron with index 96\n",
      "Created nested regressor for neuron with index 97\n",
      "Created nested regressor for neuron with index 98\n",
      "Created nested regressor for neuron with index 99\n"
     ]
    }
   ],
   "source": [
    "nr_train_images = minmax.nr_train_images\n",
    "true_relevances = minmax.true_relevances\n",
    "higher_relevances = minmax.higher_relevances\n",
    "\n",
    "minmax.train_min_max(pretrained=True)\n",
    "\n"
   ]
  },
  {
   "cell_type": "code",
   "execution_count": 5,
   "metadata": {},
   "outputs": [],
   "source": []
  },
  {
   "cell_type": "code",
   "execution_count": 12,
   "outputs": [
    {
     "data": {
      "text/plain": "<Figure size 432x288 with 1 Axes>",
      "image/png": "[encoded data removed]"
     },
     "metadata": {
      "needs_background": "light"
     },
     "output_type": "display_data"
    },
    {
     "name": "stdout",
     "output_type": "stream",
     "text": [
      "Start Relevance Propagation\n",
      "Starte Relevance Propagation für Nested Regressor mit Neuron Index 0\n",
      "Starte Relevance Propagation für Nested Regressor mit Neuron Index 1\n",
      "Starte Relevance Propagation für Nested Regressor mit Neuron Index 2\n",
      "Starte Relevance Propagation für Nested Regressor mit Neuron Index 3\n",
      "Starte Relevance Propagation für Nested Regressor mit Neuron Index 4\n",
      "Starte Relevance Propagation für Nested Regressor mit Neuron Index 5\n",
      "Starte Relevance Propagation für Nested Regressor mit Neuron Index 6\n",
      "Starte Relevance Propagation für Nested Regressor mit Neuron Index 7\n",
      "Starte Relevance Propagation für Nested Regressor mit Neuron Index 8\n",
      "Starte Relevance Propagation für Nested Regressor mit Neuron Index 9\n",
      "Starte Relevance Propagation für Nested Regressor mit Neuron Index 10\n",
      "Starte Relevance Propagation für Nested Regressor mit Neuron Index 11\n",
      "Starte Relevance Propagation für Nested Regressor mit Neuron Index 12\n",
      "Starte Relevance Propagation für Nested Regressor mit Neuron Index 13\n",
      "Starte Relevance Propagation für Nested Regressor mit Neuron Index 14\n",
      "Starte Relevance Propagation für Nested Regressor mit Neuron Index 15\n",
      "Starte Relevance Propagation für Nested Regressor mit Neuron Index 16\n",
      "Starte Relevance Propagation für Nested Regressor mit Neuron Index 17\n",
      "Starte Relevance Propagation für Nested Regressor mit Neuron Index 18\n",
      "Starte Relevance Propagation für Nested Regressor mit Neuron Index 19\n",
      "Starte Relevance Propagation für Nested Regressor mit Neuron Index 20\n",
      "Starte Relevance Propagation für Nested Regressor mit Neuron Index 21\n",
      "Starte Relevance Propagation für Nested Regressor mit Neuron Index 22\n",
      "Starte Relevance Propagation für Nested Regressor mit Neuron Index 23\n",
      "Starte Relevance Propagation für Nested Regressor mit Neuron Index 24\n",
      "Starte Relevance Propagation für Nested Regressor mit Neuron Index 25\n",
      "Starte Relevance Propagation für Nested Regressor mit Neuron Index 26\n",
      "Starte Relevance Propagation für Nested Regressor mit Neuron Index 27\n",
      "Starte Relevance Propagation für Nested Regressor mit Neuron Index 28\n",
      "Starte Relevance Propagation für Nested Regressor mit Neuron Index 29\n",
      "Starte Relevance Propagation für Nested Regressor mit Neuron Index 30\n",
      "Starte Relevance Propagation für Nested Regressor mit Neuron Index 31\n",
      "Starte Relevance Propagation für Nested Regressor mit Neuron Index 32\n",
      "Starte Relevance Propagation für Nested Regressor mit Neuron Index 33\n",
      "Starte Relevance Propagation für Nested Regressor mit Neuron Index 34\n",
      "Starte Relevance Propagation für Nested Regressor mit Neuron Index 35\n",
      "Starte Relevance Propagation für Nested Regressor mit Neuron Index 36\n",
      "Starte Relevance Propagation für Nested Regressor mit Neuron Index 37\n",
      "Starte Relevance Propagation für Nested Regressor mit Neuron Index 38\n",
      "Starte Relevance Propagation für Nested Regressor mit Neuron Index 39\n",
      "Starte Relevance Propagation für Nested Regressor mit Neuron Index 40\n",
      "Starte Relevance Propagation für Nested Regressor mit Neuron Index 41\n",
      "Starte Relevance Propagation für Nested Regressor mit Neuron Index 42\n",
      "Starte Relevance Propagation für Nested Regressor mit Neuron Index 43\n",
      "Starte Relevance Propagation für Nested Regressor mit Neuron Index 44\n",
      "Starte Relevance Propagation für Nested Regressor mit Neuron Index 45\n",
      "Starte Relevance Propagation für Nested Regressor mit Neuron Index 46\n",
      "Starte Relevance Propagation für Nested Regressor mit Neuron Index 47\n",
      "Starte Relevance Propagation für Nested Regressor mit Neuron Index 48\n",
      "Starte Relevance Propagation für Nested Regressor mit Neuron Index 49\n",
      "Starte Relevance Propagation für Nested Regressor mit Neuron Index 50\n",
      "Starte Relevance Propagation für Nested Regressor mit Neuron Index 51\n",
      "Starte Relevance Propagation für Nested Regressor mit Neuron Index 52\n",
      "Starte Relevance Propagation für Nested Regressor mit Neuron Index 53\n",
      "Starte Relevance Propagation für Nested Regressor mit Neuron Index 54\n",
      "Starte Relevance Propagation für Nested Regressor mit Neuron Index 55\n",
      "Starte Relevance Propagation für Nested Regressor mit Neuron Index 56\n",
      "Starte Relevance Propagation für Nested Regressor mit Neuron Index 57\n",
      "Starte Relevance Propagation für Nested Regressor mit Neuron Index 58\n",
      "Starte Relevance Propagation für Nested Regressor mit Neuron Index 59\n",
      "Starte Relevance Propagation für Nested Regressor mit Neuron Index 60\n",
      "Starte Relevance Propagation für Nested Regressor mit Neuron Index 61\n",
      "Starte Relevance Propagation für Nested Regressor mit Neuron Index 62\n",
      "Starte Relevance Propagation für Nested Regressor mit Neuron Index 63\n",
      "Starte Relevance Propagation für Nested Regressor mit Neuron Index 64\n",
      "Starte Relevance Propagation für Nested Regressor mit Neuron Index 65\n",
      "Starte Relevance Propagation für Nested Regressor mit Neuron Index 66\n",
      "Starte Relevance Propagation für Nested Regressor mit Neuron Index 67\n",
      "Starte Relevance Propagation für Nested Regressor mit Neuron Index 68\n",
      "Starte Relevance Propagation für Nested Regressor mit Neuron Index 69\n",
      "Starte Relevance Propagation für Nested Regressor mit Neuron Index 70\n",
      "Starte Relevance Propagation für Nested Regressor mit Neuron Index 71\n",
      "Starte Relevance Propagation für Nested Regressor mit Neuron Index 72\n",
      "Starte Relevance Propagation für Nested Regressor mit Neuron Index 73\n",
      "Starte Relevance Propagation für Nested Regressor mit Neuron Index 74\n",
      "Starte Relevance Propagation für Nested Regressor mit Neuron Index 75\n",
      "Starte Relevance Propagation für Nested Regressor mit Neuron Index 76\n",
      "Starte Relevance Propagation für Nested Regressor mit Neuron Index 77\n",
      "Starte Relevance Propagation für Nested Regressor mit Neuron Index 78\n",
      "Starte Relevance Propagation für Nested Regressor mit Neuron Index 79\n",
      "Starte Relevance Propagation für Nested Regressor mit Neuron Index 80\n",
      "Starte Relevance Propagation für Nested Regressor mit Neuron Index 81\n",
      "Starte Relevance Propagation für Nested Regressor mit Neuron Index 82\n",
      "Starte Relevance Propagation für Nested Regressor mit Neuron Index 83\n",
      "Starte Relevance Propagation für Nested Regressor mit Neuron Index 84\n",
      "Starte Relevance Propagation für Nested Regressor mit Neuron Index 85\n",
      "Starte Relevance Propagation für Nested Regressor mit Neuron Index 86\n",
      "Starte Relevance Propagation für Nested Regressor mit Neuron Index 87\n",
      "Starte Relevance Propagation für Nested Regressor mit Neuron Index 88\n",
      "Starte Relevance Propagation für Nested Regressor mit Neuron Index 89\n",
      "Starte Relevance Propagation für Nested Regressor mit Neuron Index 90\n",
      "Starte Relevance Propagation für Nested Regressor mit Neuron Index 91\n",
      "Starte Relevance Propagation für Nested Regressor mit Neuron Index 92\n",
      "Starte Relevance Propagation für Nested Regressor mit Neuron Index 93\n",
      "Starte Relevance Propagation für Nested Regressor mit Neuron Index 94\n",
      "Starte Relevance Propagation für Nested Regressor mit Neuron Index 95\n",
      "Starte Relevance Propagation für Nested Regressor mit Neuron Index 96\n",
      "Starte Relevance Propagation für Nested Regressor mit Neuron Index 97\n",
      "Starte Relevance Propagation für Nested Regressor mit Neuron Index 98\n",
      "Starte Relevance Propagation für Nested Regressor mit Neuron Index 99\n"
     ]
    }
   ],
   "source": [
    "from src.plotting.plot_funcs import plotly_mnist_image\n",
    "idx = 99\n",
    "plotly_mnist_image(minmax.classifier.test_images[idx])\n",
    "final_relevance, zplus_relevance = minmax.min_max_rel_prop(idx)"
   ],
   "metadata": {
    "collapsed": false,
    "pycharm": {
     "name": "#%%\n"
    }
   }
  },
  {
   "cell_type": "code",
   "execution_count": 18,
   "outputs": [
    {
     "data": {
      "text/plain": "<Figure size 432x288 with 1 Axes>",
      "image/png": "[encoded data removed]"
     },
     "metadata": {
      "needs_background": "light"
     },
     "output_type": "display_data"
    },
    {
     "name": "stdout",
     "output_type": "stream",
     "text": [
      "17.983583\n"
     ]
    }
   ],
   "source": [
    "final_relevance_ = final_relevance\n",
    "plotly_mnist_image(final_relevance_)\n"
   ],
   "metadata": {
    "collapsed": false,
    "pycharm": {
     "name": "#%%\n"
    }
   }
  },
  {
   "cell_type": "code",
   "execution_count": 8,
   "outputs": [],
   "source": [
    "\n"
   ],
   "metadata": {
    "collapsed": false,
    "pycharm": {
     "name": "#%%\n"
    }
   }
  }
 ]
}